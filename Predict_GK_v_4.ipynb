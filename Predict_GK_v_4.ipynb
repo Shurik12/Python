{
 "cells": [
  {
   "cell_type": "code",
   "execution_count": 3,
   "metadata": {},
   "outputs": [],
   "source": [
    "import openpyxl as px\n",
    "import dill\n",
    "from numpy import array\n",
    "\n",
    "# Загрузка обученной модели из файла\n",
    "with open('file.pkl', 'rb') as fid:\n",
    "    estimator = dill.load(fid)\n",
    "\n",
    "def predict(estimator):\n",
    "    \n",
    "    data_file = u'Фреш_проект.xlsx'\n",
    "    work_sheet = u'ЖК' \n",
    "    wb = px.load_workbook( data_file, data_only=True)\n",
    "    sheet = wb[work_sheet]\n",
    "    for k in range(1546):\n",
    "        new_data = []\n",
    "        for i in range(10):\n",
    "            new_data.append(float(sheet.cell(row = k + 2, column = i + 1).value))\n",
    "        new_data = array(new_data)\n",
    "        new_data = new_data.reshape(1, -1)\n",
    "        answer = estimator.predict(new_data)\n",
    "        sheet.cell(row = k+2, column = 11).value = answer[0]\n",
    "    wb.save(\"Пробник2.xlsx\") \n",
    "    \n",
    "predict(estimator)"
   ]
  },
  {
   "cell_type": "code",
   "execution_count": null,
   "metadata": {},
   "outputs": [],
   "source": []
  }
 ],
 "metadata": {
  "kernelspec": {
   "display_name": "Python 3",
   "language": "python",
   "name": "python3"
  },
  "language_info": {
   "codemirror_mode": {
    "name": "ipython",
    "version": 3
   },
   "file_extension": ".py",
   "mimetype": "text/x-python",
   "name": "python",
   "nbconvert_exporter": "python",
   "pygments_lexer": "ipython3",
   "version": "3.7.3"
  }
 },
 "nbformat": 4,
 "nbformat_minor": 2
}
