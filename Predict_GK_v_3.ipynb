{
 "cells": [
  {
   "cell_type": "code",
   "execution_count": 1,
   "metadata": {},
   "outputs": [],
   "source": [
    "import openpyxl as px # работа с  xlsx файлами\n",
    "import numpy as np\n",
    "import pandas as pd\n",
    "from sklearn.model_selection import train_test_split\n",
    "from sklearn import metrics, pipeline, preprocessing\n",
    "from sklearn.ensemble import RandomForestRegressor \n",
    "from sklearn import tree\n",
    "from sklearn.tree import export_graphviz # рисуем дерево\n",
    "#import pydot \n",
    "import dill # библиотека для сохранения дерева в png"
   ]
  },
  {
   "cell_type": "code",
   "execution_count": 2,
   "metadata": {},
   "outputs": [
    {
     "name": "stdout",
     "output_type": "stream",
     "text": [
      "Populating the interactive namespace from numpy and matplotlib\n"
     ]
    }
   ],
   "source": [
    "%pylab inline"
   ]
  },
  {
   "cell_type": "code",
   "execution_count": 3,
   "metadata": {},
   "outputs": [],
   "source": [
    "# Обработка данных и обучение модели, проверка на тестовой выборке\n",
    "def model():\n",
    "    # файл с данными\n",
    "    data_file = u'!ЖК FRESH.xlsx'\n",
    "    wb = px.load_workbook(data_file)\n",
    "    \n",
    "    # имя рабочего листа   \n",
    "    work_sheet = u'ЖК' \n",
    "    sheet = wb[work_sheet]\n",
    "    \n",
    "    # считываем данные их Exel в питон\n",
    "    df = pd.DataFrame(sheet.values)\n",
    "    #print (df.head())\n",
    "    \n",
    "    # удаляем 0-вую строку\n",
    "    df = df.drop([0], axis=0)\n",
    "    #print (df.head())\n",
    "    \n",
    "    # Формирование матрицы признаков и целевой переменной\n",
    "    \n",
    "    n = 10 # номер столбца с целевой переменной\n",
    "    data = df.drop(n, 1)\n",
    "    labels = df[n].values\n",
    "    \n",
    "    # Разделение на train и test\n",
    "    (train_data, test_data, train_labels, test_labels) = train_test_split(data, labels, test_size=0.3, random_state=0)\n",
    "    \n",
    "    # Категориальные признаки\n",
    "    categorical_data = train_data.drop([0, 1, 2, 3, 4], 1) \n",
    "    categorical_data_indices = np.array([(column in categorical_data) for column in train_data.columns], dtype = bool)\n",
    "    \n",
    "    # Числовые признаки\n",
    "    numeric_data = train_data.drop([ 5, 6, 7, 8, 9], 1) \n",
    "    numeric_data_indices = np.array([(column in numeric_data) for column in train_data.columns], dtype = bool)\n",
    "    \n",
    "    # Выбор регрессора (случайный лес)\n",
    "    regressor = RandomForestRegressor(random_state = 0, max_depth = 20, n_estimators = 50)\n",
    "    \n",
    "    # Создаем список преобразований\n",
    "    estimator = pipeline.Pipeline(steps = [       \n",
    "        ('feature_processing', pipeline.FeatureUnion(transformer_list = [        \n",
    "                    \n",
    "                #numeric\n",
    "                ('numeric_variables_processing', pipeline.Pipeline(steps = [\n",
    "                    ('selecting', preprocessing.FunctionTransformer(lambda data1: data1[:, numeric_data_indices], validate=True)),\n",
    "                    ('scaling', preprocessing.StandardScaler(with_mean = 0))            \n",
    "                            ])),\n",
    "                #categorical\n",
    "                ('categorical_variables_processing', pipeline.Pipeline(steps = [\n",
    "                    ('selecting', preprocessing.FunctionTransformer(lambda data1: data1[:, categorical_data_indices], validate=True)),\n",
    "                    ('hot_encoding', preprocessing.OneHotEncoder(handle_unknown = 'ignore'))            \n",
    "                            ])),\n",
    "    \n",
    "            ])),\n",
    "        ('model_fitting', regressor)\n",
    "        ]\n",
    "    )\n",
    "    \n",
    "    # Обучение модели\n",
    "    estimator.fit(train_data, train_labels)\n",
    "    \n",
    "    error = metrics.mean_absolute_error(test_labels, estimator.predict(test_data))\n",
    "    \n",
    "    pylab.figure(figsize=(16, 6))\n",
    "\n",
    "    pylab.subplot(1,2,2)\n",
    "    pylab.grid(True)\n",
    "    pylab.xlim(0,20000000)\n",
    "    pylab.ylim(0,20000000)\n",
    "    pylab.scatter(train_labels, estimator.predict(train_data), alpha=0.5, color = 'red')\n",
    "    pylab.scatter(test_labels, estimator.predict(test_data), alpha=0.5, color = 'blue')\n",
    "    \n",
    "    return error, estimator"
   ]
  },
  {
   "cell_type": "code",
   "execution_count": 4,
   "metadata": {},
   "outputs": [],
   "source": [
    "# Делаем прогноз\n",
    "def predict(estimator):\n",
    "\n",
    "    data_file = u'Фреш_проект.xlsx'\n",
    "    work_sheet = u'ЖК' \n",
    "    wb = px.load_workbook(data_file, data_only=True)\n",
    "    sheet = wb[work_sheet]\n",
    "    for k in range(1546):\n",
    "        new_data = []\n",
    "        for i in range(10):\n",
    "            new_data.append(float(sheet.cell(row = k + 2, column = i + 1).value))\n",
    "        new_data = array(new_data)\n",
    "        new_data = new_data.reshape(1, -1)\n",
    "        answer = estimator.predict(new_data)\n",
    "        sheet.cell(row = k+2, column = 11).value = answer[0]\n",
    "    wb.save(\"Пробник2.xlsx\") "
   ]
  },
  {
   "cell_type": "code",
   "execution_count": 5,
   "metadata": {},
   "outputs": [],
   "source": [
    "# Сохранение дерева в png\n",
    "def print_save_tree():\n",
    "    names = [\"Этаж\",                           \n",
    "             \"Количество комнат\",   \n",
    "             \"Общая площадь\",  \n",
    "             \"Жилая площадь\",  \n",
    "             \"Площадь кухни\",  \n",
    "             \"Этажность корпуса 27\",   \n",
    "             \"Этажность корпуса 30\",  \n",
    "             \"Внутренняя отделка -\",    \n",
    "             \"Внутренняя отделка +\",\n",
    "             \"Тип планировки - типовой\",   \n",
    "             \"Тип планировки - евро\",\n",
    "             \"Количество сан узлов 1\",   \n",
    "             \"Количество сан узлов 2\", \n",
    "             \"Сан узел - совм\", \n",
    "             \"Сан узел - разд\",\n",
    "             \"Сан узел - совм и разд\",\n",
    "            ]\n",
    "    export_graphviz(estimator.named_steps['model_fitting'][0], \n",
    "                    out_file='tree.dot', feature_names = names, filled=True)\n",
    "    (graph,) = pydot.graph_from_dot_file('tree.dot')\n",
    "    graph.write_png('tree.png')"
   ]
  },
  {
   "cell_type": "code",
   "execution_count": 6,
   "metadata": {},
   "outputs": [
    {
     "name": "stdout",
     "output_type": "stream",
     "text": [
      "203288.0\n"
     ]
    },
    {
     "data": {
      "image/png": "[encoded data removed]",
      "text/plain": [
       "<Figure size 1152x432 with 1 Axes>"
      ]
     },
     "metadata": {
      "needs_background": "light"
     },
     "output_type": "display_data"
    }
   ],
   "source": [
    "err, estimator = model()\n",
    "print (round(err))\n",
    "predict(estimator)"
   ]
  },
  {
   "cell_type": "code",
   "execution_count": 7,
   "metadata": {},
   "outputs": [],
   "source": [
    "# Сохраняем обученную модель в файл для дальнейшего использования\n",
    "with open('file.pkl', 'wb') as fid:\n",
    "    dill.dump(estimator, fid) "
   ]
  },
  {
   "cell_type": "code",
   "execution_count": null,
   "metadata": {},
   "outputs": [],
   "source": []
  }
 ],
 "metadata": {
  "kernelspec": {
   "display_name": "Python 3",
   "language": "python",
   "name": "python3"
  },
  "language_info": {
   "codemirror_mode": {
    "name": "ipython",
    "version": 3
   },
   "file_extension": ".py",
   "mimetype": "text/x-python",
   "name": "python",
   "nbconvert_exporter": "python",
   "pygments_lexer": "ipython3",
   "version": "3.7.3"
  }
 },
 "nbformat": 4,
 "nbformat_minor": 2
}
