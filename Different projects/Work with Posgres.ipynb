{
 "cells": [
  {
   "cell_type": "markdown",
   "metadata": {},
   "source": [
    "### Объявляем библиотеки"
   ]
  },
  {
   "cell_type": "code",
   "execution_count": 8,
   "metadata": {},
   "outputs": [
    {
     "data": {
      "text/plain": [
       "'from sklearn.cluster import KMeans\\nimport numpy as np\\nimport pandas as pd\\nimport matplotlib.pyplot as plt'"
      ]
     },
     "execution_count": 8,
     "metadata": {},
     "output_type": "execute_result"
    }
   ],
   "source": [
    "import psycopg2 as ps\n",
    "from psycopg2.extras import DictCursor\n",
    "\"\"\"from sklearn.cluster import KMeans\n",
    "import numpy as np\n",
    "import pandas as pd\n",
    "import matplotlib.pyplot as plt\"\"\"\n",
    "#import codecs"
   ]
  },
  {
   "cell_type": "markdown",
   "metadata": {},
   "source": [
    "### Объявляем переменные"
   ]
  },
  {
   "cell_type": "code",
   "execution_count": 3,
   "metadata": {},
   "outputs": [],
   "source": [
    "PASSWORD = 'u2i6Vt6RtmQnY'\n",
    "USER = 'sas'\n",
    "DB = 'sas_db'\n",
    "HOST = '192.168.0.71'\n",
    "PORT = '5432'\n",
    "\n",
    "dbname = 'sas_test_db'\n",
    "user = 'sas'\n",
    "password = 'sasTESTpassword'\n",
    "host = '185.98.83.27'\n",
    "port = '29001'\n",
    "\n",
    "table = \"offices_lease\""
   ]
  },
  {
   "cell_type": "markdown",
   "metadata": {},
   "source": [
    "### Устанавливаем соединение"
   ]
  },
  {
   "cell_type": "code",
   "execution_count": 9,
   "metadata": {},
   "outputs": [
    {
     "name": "stdout",
     "output_type": "stream",
     "text": [
      "Connection established with <cursor object at 0x7f039498d160; closed: 0>\n"
     ]
    }
   ],
   "source": [
    "connection = ps.connect(dbname = dbname, user = user, password = password, host = host, port = port)\n",
    "cursor = connection.cursor(cursor_factory = DictCursor)\n",
    "print(\"Connection established with\", cursor)"
   ]
  },
  {
   "cell_type": "code",
   "execution_count": 3,
   "metadata": {},
   "outputs": [],
   "source": [
    "# Выгрузка базы данных частями\n",
    "sql1 = \"\"\"\n",
    "        SELECT *\n",
    "        FROM %s \n",
    "        WHERE id >= %s and id < %s\n",
    "       \"\"\"\n",
    "\n",
    "# Обновить поле buildingclass\n",
    "sql2 = \"\"\"\n",
    "        UPDATE %s \n",
    "        SET buildingclass = '%s' \n",
    "        WHERE id = %d\n",
    "        \"\"\"\n",
    "\n",
    "# Получить список таблиц в базе\n",
    "sql3 = \"\"\"\n",
    "        SELECT table_name FROM information_schema.tables WHERE table_schema NOT IN \n",
    "        ('information_schema','pg_catalog')\n",
    "        \"\"\"\n",
    "\n",
    "\n",
    "sql4 = \"\"\"\n",
    "        SELECT id, fulladdress\n",
    "        FROM %s\n",
    "        WHERE fulladdress LIKE '%s' and isbuildingliving is Null\n",
    "      \"\"\"\n",
    "\n",
    "# Получить список индексов таблицы\n",
    "sql5 = \"\"\" \n",
    "        SELECT schemaname, tablename, indexname, indexdef\n",
    "        FROM pg_indexes\n",
    "        WHERE tablename = 'garages' AND schemaname = 'myschema'\n",
    "        \"\"\"\n",
    "\n",
    "# добавить первичный ключ в таблице\n",
    "sql6 = \"\"\"\n",
    "        ALTER TABLE %s \n",
    "        ADD CONSTRAINT id \n",
    "        PRIMARY KEY (id)\n",
    "        \"\"\"\n",
    "\n",
    "# Узнать первичный ключ таблицы\n",
    "# Primary key always is clastering index\n",
    "sql7 = \"\"\" \n",
    "        SELECT c.column_name, c.ordinal_position\n",
    "        FROM information_schema.key_column_usage AS c\n",
    "        LEFT JOIN information_schema.table_constraints AS t\n",
    "        ON t.constraint_name = c.constraint_name\n",
    "        WHERE t.table_name = '%s' AND t.constraint_type = 'PRIMARY KEY'\n",
    "        \"\"\"\n",
    "\n",
    "# Выгрузить данные из таблицы\n",
    "sql8 = \"\"\"\n",
    "        SELECT id, price, floorscount, buildingclass, totalarea, isbuildingliving, \n",
    "                district, metrotransport, metroname, metrodistance, buildyear\n",
    "        FROM %s \n",
    "        WHERE price is not Null and totalarea is not Null and fulladdress LIKE '%s' and price > 50000\n",
    "        \"\"\""
   ]
  },
  {
   "cell_type": "code",
   "execution_count": 4,
   "metadata": {},
   "outputs": [],
   "source": [
    "def save_db(sql, cursor, file):\n",
    "    n = 50000\n",
    "    with codecs.open(file, mode = 'w', encoding = 'utf-8') as f_w:\n",
    "        for i in range(3):\n",
    "            cursor.execute(SQL % (table, str(i*n), str((i+1)*n)))\n",
    "            if i == 0: \n",
    "                col_names = [desc[0] for desc in cursor.description]\n",
    "                f_w.write(\"\\t\".join(col_names))\n",
    "                f_w.write(\"\\n\")\n",
    "            batch = cursor.fetchall()\n",
    "            for line in batch:\n",
    "                f_w.write(\"\\t\".join(str(j).replace('\\n', '') for j in line))\n",
    "                f_w.write(\"\\n\")\n",
    "                \n",
    "# Получить id и classes из Result1.tsv\n",
    "def get_id_classes_from_Result1():\n",
    "    id_s = []\n",
    "    classes = []\n",
    "    with codecs.open(\"Result1.tsv\", mode = \"r\", encoding = \"utf-8\") as f_r: \n",
    "        line = f_r.readline()\n",
    "        line = f_r.readline()\n",
    "        while line:\n",
    "            line = line.strip('\\n').split('\\t')\n",
    "            id_s.append(line[0].strip())\n",
    "            classes.append(line[1].strip())\n",
    "            line = f_r.readline()\n",
    "    return id_s, classes\n",
    "\n",
    "# Выгрузить id and classes в бд\n",
    "def update_db_for_classes(id_s, classes, cursor, connection, sql):\n",
    "    for i in range(len(id_s)):\n",
    "        if i % 100 == 0:\n",
    "            print(i, int(id_s[i]))\n",
    "        cursor.execute(sql % (table, classes[i], int(id_s[i])))\n",
    "        connection.commit()\n",
    "        \n",
    "# Получить список таблиц\n",
    "def get_tables(cursor):\n",
    "    cursor.execute(sql3)\n",
    "    return cursor.fetchall()\n",
    "\n",
    "# Выгрузка офисов из таблицы\n",
    "def load_offices():\n",
    "    SQL = \"\"\"SELECT id, price, fulladdress, buildingclass, buildyear, floorscount\n",
    "             FROM %s \n",
    "             WHERE fulladdress Like '%s'\n",
    "          \"\"\"\n",
    "    cursor.execute(SQL % (table, '%Москва%'))\n",
    "    with open(\"offices.tsv\", \"w\") as f_w:\n",
    "        f_w.write('id\\tprice\\taddress\\tclass\\tyear\\tfloors\\n')\n",
    "        for line in cursor.fetchall(): \n",
    "            line_w = ''\n",
    "            for word in line:\n",
    "                line_w += str(word) + '\\t'\n",
    "            line_w = line_w.strip() + '\\n'\n",
    "            f_w.write(line_w)\n",
    "\n",
    "# Выгрузить данные для Макса\n",
    "def data_for_Maks(cursor, sql):\n",
    "    cursor.execute(SQL % (\"offices_lease\", '%Москва%'))\n",
    "    batch = cursor.fetchall()\n",
    "    with open(\"for_Maks.tsv\", \"w\") as f_w:\n",
    "        f_w.write(\"id\\taddress\\n\")\n",
    "        for line in batch:\n",
    "            for_write = str(line[0]) + \"\\t\" + line[1] + \"\\n\"\n",
    "            f_w.write(for_write)\n",
    "\n",
    "# Добавить первичный ключ к таблице\n",
    "def add_primary_key_to_table(cursor, table, sql):\n",
    "    cursor.execute(sql7 % table_name)\n",
    "    a = cursor.fetchall()\n",
    "    if not a:\n",
    "        cursor.execute(\"SELECT * FROM %s LIMIT {size}\".format(size=0) % table_name)\n",
    "        offices_columns = [desc[0] for desc in cursor.description]\n",
    "        if \"externalid\" in offices_columns:\n",
    "            SQL = \"\"\"ALTER TABLE %s ADD CONSTRAINT externalid PRIMARY KEY (externalid)\"\"\"\n",
    "            cursor.execute(SQL % table_name)\n",
    "        else:\n",
    "            SQL = \"\"\"ALTER TABLE %s ADD CONSTRAINT id PRIMARY KEY (id)\"\"\"\n",
    "            cursor.execute(SQL % table_name)\n",
    "        \n",
    "# Выгрузить данные из таблицы\n",
    "def load_from_db(cursor, sql):\n",
    "    cursor.execute(SQL % (table, '%Москва%'))\n",
    "    batch = cursor.fetchall()\n",
    "    with codecs.open(\"50.tsv\", mode = \"w\", encoding = \"utf-8\") as f_w:\n",
    "        # заголовки \n",
    "        array = ['id', 'price', 'floorscount', 'buildingclass', 'totalarea', 'isbuildingliving', \n",
    "                 'district', 'metrotransport', 'metroname', 'metrodistance', 'buildyear']\n",
    "        write_line = \"\"\n",
    "        for word in array:\n",
    "            write_line += word + '\\t'\n",
    "        write_line = write_line.strip() + \"\\n\"\n",
    "        f_w.write(write_line)\n",
    "\n",
    "        # значения\n",
    "        for line in batch:\n",
    "            write_line = \"\"\n",
    "            for word in line:\n",
    "                write_line += str(word) + \"\\t\" \n",
    "            write_line = write_line.strip() + \"\\n\"\n",
    "            f_w.write(write_line)"
   ]
  },
  {
   "cell_type": "markdown",
   "metadata": {},
   "source": [
    "##### Save data base to Exel"
   ]
  },
  {
   "cell_type": "code",
   "execution_count": 5,
   "metadata": {},
   "outputs": [
    {
     "name": "stdout",
     "output_type": "stream",
     "text": [
      "18145737240\n"
     ]
    }
   ],
   "source": [
    "cursor.execute(\"SELECT pg_database_size('sas_test_db')\")\n",
    "print (cursor.fetchone()[0])\n",
    "save_db(sql1, cursor, \"back_up_23-03-2020.tsv\")"
   ]
  },
  {
   "cell_type": "markdown",
   "metadata": {},
   "source": [
    "###### Update data_base"
   ]
  },
  {
   "cell_type": "code",
   "execution_count": 12,
   "metadata": {},
   "outputs": [],
   "source": [
    "id_s, classes = get_id_classes_from_Result1()\n",
    "print (len(id_s))\n",
    "update_db_for_classes(id_s, classes, cursor, connection, sql2)"
   ]
  },
  {
   "cell_type": "markdown",
   "metadata": {},
   "source": [
    "###### Получить список таблиц"
   ]
  },
  {
   "cell_type": "code",
   "execution_count": 39,
   "metadata": {},
   "outputs": [],
   "source": [
    "table_names = get_tables(cursor)"
   ]
  },
  {
   "cell_type": "markdown",
   "metadata": {},
   "source": [
    "###### Получить список столбцов таблицы"
   ]
  },
  {
   "cell_type": "code",
   "execution_count": 67,
   "metadata": {},
   "outputs": [],
   "source": [
    "name_table = \"garages\"\n",
    "cursor.execute(\"SELECT * FROM %s LIMIT {size}\".format(size=0) % name_table)\n",
    "cols = [desc[0] for desc in cursor.description]"
   ]
  },
  {
   "cell_type": "markdown",
   "metadata": {},
   "source": [
    "###### Получить список индексов таблицы"
   ]
  },
  {
   "cell_type": "code",
   "execution_count": 70,
   "metadata": {},
   "outputs": [
    {
     "name": "stdout",
     "output_type": "stream",
     "text": [
      "[]\n"
     ]
    }
   ],
   "source": [
    "cursor.execute(sql5)\n",
    "print(cursor.fetchall())"
   ]
  },
  {
   "cell_type": "markdown",
   "metadata": {},
   "source": [
    "### Делим данные "
   ]
  },
  {
   "cell_type": "markdown",
   "metadata": {},
   "source": [
    "#### Выделение улицы и дома"
   ]
  },
  {
   "cell_type": "code",
   "execution_count": 2,
   "metadata": {},
   "outputs": [
    {
     "name": "stdout",
     "output_type": "stream",
     "text": [
      "['1449139', 'Москва, ЦАО, район Тверской, Петровский бульвар, 15С1', 'None', 'None', 'None', '\\n']\n"
     ]
    }
   ],
   "source": [
    "#### тренировочный ноутбук \n",
    "file_read = open(\"bulvar.tsv\", 'r')\n",
    "line = file_read.readline()\n",
    "line = line.split('\\t')\n",
    "print (line)\n",
    "file_read.close()"
   ]
  },
  {
   "cell_type": "code",
   "execution_count": 15,
   "metadata": {},
   "outputs": [],
   "source": [
    "files_write = [\"street.tsv\", \"prospect.tsv\", \"bulvar.tsv\", \"pereulok.tsv\", \"proezd.tsv\", \"shosse.tsv\", \n",
    "               \"naberejnaya.tsv\", \"ploschad.tsv\", \"typik.tsv\", 'ostalnoe.tsv']\n",
    "words = [\"улица\", \"проспект\", \"бульвар\", \"переулок\", \"проезд\", \"шоссе\", \"набережная\",  \"площадь\", \"тупик\"]\n",
    "f = []\n",
    "for file in files_write:\n",
    "    f.append(open(file, 'w'))\n",
    "with open(\"offices.tsv\", \"r\") as f_r:\n",
    "    line = f_r.readline()\n",
    "    line = f_r.readline()\n",
    "    while(line):\n",
    "        for i in range(len(words)):\n",
    "            if words[i] in line:\n",
    "                f[i].write(line)\n",
    "                break\n",
    "        line = f_r.readline()\n",
    "for file in f:\n",
    "    file.close()"
   ]
  },
  {
   "cell_type": "code",
   "execution_count": 11,
   "metadata": {},
   "outputs": [],
   "source": [
    "### Название улицы, бульвара,.., номер дома\n",
    "\n",
    "def street(file_read, file_write, word):\n",
    "    with codecs.open(file_read, mode = 'r', encoding = 'utf-8') as f_r:\n",
    "        with codecs.open(file_write, mode = \"w\", encoding = \"utf-8\") as f_w:\n",
    "            line = f_r.readline()\n",
    "            while(line):\n",
    "                line = line.strip(\"\\n\")\n",
    "                line = line.split('\\t')\n",
    "                line_1 = line[2].split(', ')\n",
    "                new_line = line[0] + '\\t' + line[1] + '\\t'\n",
    "                for k in range (len(line_1)): \n",
    "                    if word in line_1[k]:\n",
    "                        street = line_1[k]\n",
    "                        break\n",
    "                if k < len(line_1)-1:\n",
    "                    \n",
    "                    # обработка дома\n",
    "                    house = line_1[k+1].lower().strip()\n",
    "                    k = house.find(\"к\")\n",
    "                    c = house.find(\"с\")\n",
    "                    if k < 0 and c < 0:\n",
    "                        house = house + \"\\t\\t\" \n",
    "                    elif k<0 and c>0:\n",
    "                        house = house[:c] + \"\\t\\t\" + house[c+1:]\n",
    "                    elif k>0 and c<0:    \n",
    "                        house = house[:k] + \"\\t\" + house[k+1:] + \"\\t\"\n",
    "                    else:\n",
    "                        if k<c:\n",
    "                            house = house[:k] + \"\\t\" + house[k+1:c] + \"\\t\" + house[c+1:]\n",
    "                        else:\n",
    "                            \n",
    "                            house = house[:k] + \"\\t\" + house[c+1:k] + \"\\t\" + house[k+1:]\n",
    "                            print(line)\n",
    "                            print(new_line + street.replace(word, \"\").strip() + \"\\t\" + house)\n",
    "                    # конец обработки дома\n",
    "                    \n",
    "                    new_line = new_line + street.replace(word, \"\").strip() + \"\\t\" + house  \n",
    "                else:\n",
    "                    new_line = new_line + street.replace(word, \"\").strip()\n",
    "                for i in range(3, 6):\n",
    "                    new_line = new_line + '\\t' + line[i]\n",
    "                f_w.write(new_line + \"\\n\")\n",
    "                line = f_r.readline()"
   ]
  },
  {
   "cell_type": "code",
   "execution_count": 12,
   "metadata": {
    "collapsed": true
   },
   "outputs": [
    {
     "name": "stdout",
     "output_type": "stream",
     "text": [
      "['1383436', '12335400.0', 'улица Вертолетчиков, Москва', 'None', 'None', '17']\n",
      "1383436\t12335400.0\tВертолетчиков\tмо\t\tва\n",
      "['1600357', '15457000.0', 'улица Вертолетчиков, Москва', 'None', 'None', '17']\n",
      "1600357\t15457000.0\tВертолетчиков\tмо\t\tва\n",
      "['1600360', '17576000.0', 'улица Вертолетчиков, Москва', 'None', 'None', '17']\n",
      "1600360\t17576000.0\tВертолетчиков\tмо\t\tва\n",
      "['1571366', '9577440.0', 'улица Вертолетчиков, Москва', 'None', 'None', '17']\n",
      "1571366\t9577440.0\tВертолетчиков\tмо\t\tва\n",
      "['146459', '264320000.00', 'Москва, ЦАО, район Хамовники, улица Ефремова, 10с1к4/1', 'b', 'None', '14']\n",
      "146459\t264320000.00\tЕфремова\t10\t1\t4/1\n",
      "['1571361', '9240480.0', 'улица Вертолетчиков, Москва', 'None', 'None', '17']\n",
      "1571361\t9240480.0\tВертолетчиков\tмо\t\tва\n",
      "['1583175', '10408500.0', 'улица Вертолетчиков, Москва', 'None', 'None', '17']\n",
      "1583175\t10408500.0\tВертолетчиков\tмо\t\tва\n",
      "['146460', '153400000.00', 'Москва, ЦАО, район Хамовники, улица Ефремова, 10с1к4/1', 'b', 'None', '14']\n",
      "146460\t153400000.00\tЕфремова\t10\t1\t4/1\n",
      "['134084', '3500000.00', 'Россия, Москва, Зеленоград, Георгиевский проспект, к1651', 'B+', '2015', '4']\n",
      "134084\t3500000.00\tГеоргиевский\tк165\t\t1651\n",
      "['144834', '20339100.00', '115432, Россия, Москва, Проектируемый проезд № 4062, 6с16к1', 'b', '2008', '10']\n",
      "144834\t20339100.00\tПроектируемый  № 4062\t6\t16\t1\n",
      "['122246', '20171700.00', '115432, Россия, Москва, Проектируемый проезд № 4062, 6с16к1', '', '2008', '6']\n",
      "122246\t20171700.00\tПроектируемый  № 4062\t6\t16\t1\n"
     ]
    }
   ],
   "source": [
    "# Запуск street по всем файлам\n",
    "\n",
    "files_read = [\"street.tsv\", \"prospect.tsv\", \"bulvar.tsv\", \"pereulok.tsv\", \"proezd.tsv\", \"shosse.tsv\", \n",
    "               \"naberejnaya.tsv\", \"ploschad.tsv\", \"typik.tsv\"]\n",
    "\n",
    "files_write = [\"street_out.tsv\", \"prospect_out.tsv\", \"bulvar_out.tsv\", \"pereulok_out.tsv\", \"proezd_out.tsv\",\n",
    "               \"shosse_out.tsv\", \"naberejnaya_out.tsv\", \"ploschad_out.tsv\", \"typik_out.tsv\"]\n",
    "\n",
    "words = [\"улица\", \"проспект\", \"бульвар\", \"переулок\", \"проезд\", \"шоссе\", \"набережная\",  \"площадь\", \"тупик\"]\n",
    "\n",
    "for i in range(len(files_read)):\n",
    "    street(files_read[i], files_write[i], words[i])"
   ]
  },
  {
   "cell_type": "markdown",
   "metadata": {},
   "source": [
    "#### Сливаем все в один общий файл "
   ]
  },
  {
   "cell_type": "code",
   "execution_count": 21,
   "metadata": {},
   "outputs": [],
   "source": [
    "files_read = [\"street_out.tsv\", \"prospect_out.tsv\", \"bulvar_out.tsv\", \"pereulok_out.tsv\", \"proezd_out.tsv\",\n",
    "               \"shosse_out.tsv\", \"naberejnaya_out.tsv\", \"ploschad_out.tsv\", \"typik_out.tsv\"]\n",
    "words = [\"улица\", \"проспект\", \"бульвар\", \"переулок\", \"проезд\", \"шоссе\", \"набережная\",  \"площадь\", \"тупик\"]\n",
    "file_write = \"total.tsv\""
   ]
  },
  {
   "cell_type": "code",
   "execution_count": 31,
   "metadata": {},
   "outputs": [],
   "source": [
    "with codecs.open(file_write, mode = 'w', encoding = 'utf-8') as f_w:\n",
    "    f_w.write('id\\tprice\\tstreet\\thouse\\tstroenie\\tclass\\tyear\\tfloors\\n')\n",
    "    for i  in range(len(files_read)):\n",
    "        file_read = files_read[i]\n",
    "        word = words[i] \n",
    "        with codecs.open(file_read, mode = \"r\", encoding = \"utf-8\") as f_r:\n",
    "            line = f_r.readline()\n",
    "            while line: \n",
    "                line = line.strip(\"\\n\")\n",
    "                line = line.split('\\t')\n",
    "                line[2] = word + ' ' + line[2]\n",
    "                new_line = ''\n",
    "                for j in range(len(line)):\n",
    "                    new_line += line[j] + '\\t'\n",
    "                new_line = new_line.strip() + '\\n'\n",
    "                f_w.write(new_line)\n",
    "                line = f_r.readline()"
   ]
  },
  {
   "cell_type": "markdown",
   "metadata": {},
   "source": [
    "#### Создаем массив уникальных адресов"
   ]
  },
  {
   "cell_type": "code",
   "execution_count": 28,
   "metadata": {},
   "outputs": [],
   "source": [
    "array_addresses = []\n",
    "array_classes = []\n",
    "with open('dictionary of addresses.tsv', 'r') as f_r:\n",
    "    for line in f_r:\n",
    "        line = line.strip('\\n').split('\\t')\n",
    "        array_addresses.append(line[0:4])\n",
    "        array_classes.append(line[4])"
   ]
  },
  {
   "cell_type": "code",
   "execution_count": 35,
   "metadata": {},
   "outputs": [],
   "source": [
    "total_addresses = []\n",
    "total_id = []\n",
    "with open('total.tsv', 'r') as f_r:\n",
    "    line = f_r.readline()\n",
    "    line = f_r.readline()\n",
    "    while line:\n",
    "        line = line.strip('\\n').split('\\t')\n",
    "        total_addresses.append(line[2:6])\n",
    "        total_id.append(line[0])\n",
    "        line = f_r.readline()"
   ]
  },
  {
   "cell_type": "code",
   "execution_count": 33,
   "metadata": {},
   "outputs": [
    {
     "name": "stdout",
     "output_type": "stream",
     "text": [
      "11700 17665\n"
     ]
    }
   ],
   "source": [
    "print (len(array_addresses), len(total_addresses))"
   ]
  },
  {
   "cell_type": "code",
   "execution_count": 34,
   "metadata": {},
   "outputs": [
    {
     "name": "stdout",
     "output_type": "stream",
     "text": [
      "13817\n"
     ]
    }
   ],
   "source": [
    "i = 0\n",
    "for line in total_addresses:\n",
    "    if line in array_addresses:\n",
    "        i += 1\n",
    "print (i)        "
   ]
  },
  {
   "cell_type": "code",
   "execution_count": 36,
   "metadata": {},
   "outputs": [],
   "source": [
    "with open(\"offices_Result.tsv\", \"w\") as f_w:\n",
    "    for i in range(len(total_addresses)):\n",
    "        for j in range(len(array_addresses)):\n",
    "            if total_addresses[i] == array_addresses[j]:\n",
    "                line = total_id[i] + '\\t'\n",
    "                for k in total_addresses[i]:\n",
    "                    line += k + '\\t'\n",
    "                line += array_classes[j] + '\\n'\n",
    "                f_w.write(line)\n",
    "                break"
   ]
  },
  {
   "cell_type": "code",
   "execution_count": 15,
   "metadata": {},
   "outputs": [],
   "source": [
    "result_id = []\n",
    "with open(\"offices_Result.tsv\", \"r\") as f_r:\n",
    "    for line in f_r:\n",
    "        line = line.strip('\\n').split('\\t')\n",
    "        result_id.append(line[0])"
   ]
  },
  {
   "cell_type": "code",
   "execution_count": 16,
   "metadata": {},
   "outputs": [],
   "source": [
    "with open('ostatok.tsv', 'w') as f_w:\n",
    "    with open('total.tsv', 'r') as f_r:\n",
    "        line = f_r.readline()\n",
    "        line = f_r.readline()\n",
    "        while line:\n",
    "            line1 = line.strip('\\n').split('\\t')\n",
    "            if line1[0] not in result_id:\n",
    "                f_w.write(line)\n",
    "            line = f_r.readline()"
   ]
  },
  {
   "cell_type": "markdown",
   "metadata": {},
   "source": [
    "### Бинарный поиск"
   ]
  },
  {
   "cell_type": "code",
   "execution_count": 16,
   "metadata": {},
   "outputs": [],
   "source": [
    "# бинарный поиск\n",
    "def bin_search(a, value):\n",
    "    mid = len(a) // 2\n",
    "    low = 0\n",
    "    high = len(a) - 1\n",
    "\n",
    "    while a[mid] != value and low <= high:\n",
    "        if value > a[mid]:\n",
    "            low = mid + 1\n",
    "        else:\n",
    "            high = mid - 1\n",
    "        mid = (low + high) // 2\n",
    "    if low > high:\n",
    "        return -1\n",
    "    else:\n",
    "        return mid"
   ]
  },
  {
   "cell_type": "code",
   "execution_count": null,
   "metadata": {},
   "outputs": [],
   "source": []
  }
 ],
 "metadata": {
  "kernelspec": {
   "display_name": "Python 3",
   "language": "python",
   "name": "python3"
  },
  "language_info": {
   "codemirror_mode": {
    "name": "ipython",
    "version": 3
   },
   "file_extension": ".py",
   "mimetype": "text/x-python",
   "name": "python",
   "nbconvert_exporter": "python",
   "pygments_lexer": "ipython3",
   "version": "3.7.3"
  }
 },
 "nbformat": 4,
 "nbformat_minor": 2
}
