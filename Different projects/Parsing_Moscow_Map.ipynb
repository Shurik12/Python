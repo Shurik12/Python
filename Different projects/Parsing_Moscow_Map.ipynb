{
 "cells": [
  {
   "cell_type": "code",
   "execution_count": 3,
   "metadata": {},
   "outputs": [],
   "source": [
    "from bs4 import BeautifulSoup\n",
    "import requests as re\n",
    "import time\n",
    "import random\n",
    "from requests.auth import HTTPBasicAuth"
   ]
  },
  {
   "cell_type": "code",
   "execution_count": 1,
   "metadata": {},
   "outputs": [],
   "source": [
    "def get_url(link, n):\n",
    "    # n - номер прокси 1, 2, 3, 4, 5, 6, 7\n",
    "    ip_addresses = [\n",
    "        '199.247.13.', '138.68.111.', '46.101.40.',\n",
    "        '162.213.37.', '185.12.6.', '104.236.235.', '31.171.246.'\n",
    "    ]\n",
    "    auth = HTTPBasicAuth(\"fincase\", \"4toto54emto\")\n",
    "    ip = ip_addresses[n] + ':' + '31280'\n",
    "    url = link\n",
    "    proxy = {\n",
    "        \"http\": ip, \n",
    "        \"https\": ip\n",
    "    }\n",
    "    try:\n",
    "        response = re.get(url, proxies = proxy, auth = auth, timeout = 10)\n",
    "        soup = BeautifulSoup(response.text)\n",
    "        return soup\n",
    "    except:\n",
    "        return -1"
   ]
  },
  {
   "cell_type": "code",
   "execution_count": 12,
   "metadata": {},
   "outputs": [],
   "source": [
    "def get_houses_links():\n",
    "    number_string = 170\n",
    "    n = random.randint(0, 6)\n",
    "    with open(\"new_streets.tsv\", 'r') as f_r:\n",
    "        with open(\"new_houses.tsv\", \"a\")as f_w:\n",
    "            with open(\"new_else.tsv\", \"a\")as f_w_2:\n",
    "                for q in range(number_string + 1):\n",
    "                    link = f_r.readline()\n",
    "                while link:\n",
    "                    if number_string % 200 == 0:\n",
    "                        print (number_string)\n",
    "                    number_string += 1\n",
    "                    link = link.strip('\\n')\n",
    "                    if 'page' not in link:\n",
    "                        template = \"https://www.moscowmap.ru\"\n",
    "                        link = template + link # сделали ссылку\n",
    "                        soup = -1\n",
    "                        while soup == -1:\n",
    "                            n = random.randint(0, 6)\n",
    "                            soup = get_url(link, n)\n",
    "                        time.sleep(1)\n",
    "                        div = soup.find('div', {'class': 'g-recaptcha'})\n",
    "                        if not div:\n",
    "                            div = soup.find(\"div\", {'class':\"text-expand clearfix multilist\"})\n",
    "                            if div:\n",
    "                                divs = div.find_all('div')\n",
    "                                for div in divs:\n",
    "                                    a = div.find('a')\n",
    "                                    f_w.write(a['href'] + '\\n')\n",
    "                                time.sleep(1)\n",
    "                            else:\n",
    "                                print(str(link)+\" not div\")\n",
    "                        else:\n",
    "                            print (\"Captcha!!!\")\n",
    "                            print (n, number_string)\n",
    "                            break\n",
    "                    link = f_r.readline()\n",
    "                    n = random.randint(0, 6)\n",
    "    return number_string"
   ]
  },
  {
   "cell_type": "code",
   "execution_count": 13,
   "metadata": {},
   "outputs": [
    {
     "name": "stdout",
     "output_type": "stream",
     "text": [
      "https://www.moscowmap.ru/streets/klubny-proyezd.html not div\n",
      "200\n",
      "https://www.moscowmap.ru/streets/kolmogorova-ulitsa.html not div\n",
      "https://www.moscowmap.ru/streets/kolomnikova-ulitsa.html not div\n",
      "https://www.moscowmap.ru/streets/kosmonavtov-alleya.html not div\n",
      "https://www.moscowmap.ru/streets/krasnogorskoye-shosse.html not div\n",
      "400\n",
      "https://www.moscowmap.ru/streets/kuskovskaya-2-ulitsa.html not div\n",
      "https://www.moscowmap.ru/streets/lihoborsky-proyezd.html not div\n",
      "https://www.moscowmap.ru/streets/matushkina-ulitsa.html not div\n",
      "600\n",
      "https://www.moscowmap.ru/streets/meryanka-ulitsa.html not div\n",
      "https://www.moscowmap.ru/streets/mosstroyput-ulitsa.html not div\n",
      "800\n",
      "https://www.moscowmap.ru/streets/novinsky-pereulok.html not div\n",
      "https://www.moscowmap.ru/streets/novodachnoye-shosse.html not div\n",
      "https://www.moscowmap.ru/streets/novofilevsky-proyezd.html not div\n",
      "https://www.moscowmap.ru/streets/novogireevsky-puteprovod.html not div\n",
      "https://www.moscowmap.ru/streets/novopetrovsky-proyezd.html not div\n",
      "https://www.moscowmap.ru/streets/novy-proyezd.html not div\n",
      "https://www.moscowmap.ru/streets/oktyabrskaya-ulitsa--2.html not div\n",
      "https://www.moscowmap.ru/streets/ordynsky-maly-pereulok.html not div\n",
      "1000\n",
      "https://www.moscowmap.ru/streets/perevedenovsky-tupik.html not div\n",
      "1200\n",
      "https://www.moscowmap.ru/streets/proyektiruyemy-5314-proyezd.html not div\n",
      "https://www.moscowmap.ru/streets/proyektiruyemy-5399-proyezd.html not div\n",
      "https://www.moscowmap.ru/streets/proyektiruyemy-6085-proyezd.html not div\n",
      "https://www.moscowmap.ru/streets/proyektiruyemy-proyezd-1564a.html not div\n",
      "https://www.moscowmap.ru/streets/proyektiruyemy-proyezd-2147a.html not div\n",
      "https://www.moscowmap.ru/streets/rizhskaya-yestakada.html not div\n",
      "https://www.moscowmap.ru/streets/rusakovskaya-yestakada.html not div\n",
      "1400\n",
      "https://www.moscowmap.ru/streets/severodonetskaya-2-ulitsa.html not div\n",
      "https://www.moscowmap.ru/streets/slavskogo-ulitsa.html not div\n",
      "https://www.moscowmap.ru/streets/solnechnaya-ulitsa--2.html not div\n",
      "https://www.moscowmap.ru/streets/spasskaya-ulitsa.html not div\n",
      "https://www.moscowmap.ru/streets/staromarkovsky-proyezd.html not div\n",
      "1600\n",
      "https://www.moscowmap.ru/streets/tobolsky-pereulok.html not div\n",
      "https://www.moscowmap.ru/streets/troitskaya-ulitsa--2.html not div\n",
      "https://www.moscowmap.ru/streets/tushinskaya-ploshhad.html not div\n",
      "https://www.moscowmap.ru/streets/ulitsa-akademika-lisitsyna.html not div\n",
      "1800\n",
      "https://www.moscowmap.ru/streets/ulitsa-bolshaya-nikolskaya.html not div\n",
      "https://www.moscowmap.ru/streets/ulitsa-fedora-dubovitskogo.html not div\n",
      "https://www.moscowmap.ru/streets/ulitsa-generala-sandalova.html not div\n",
      "https://www.moscowmap.ru/streets/ulitsa-igorya-chislenko.html not div\n",
      "https://www.moscowmap.ru/streets/ulitsa-letchika-novozhilova.html not div\n",
      "https://www.moscowmap.ru/streets/ulitsa-letchika-spirina.html not div\n",
      "https://www.moscowmap.ru/streets/ulitsa-mustaya-karima.html not div\n",
      "https://www.moscowmap.ru/streets/ulitsa-okudzhavy-bulata.html not div\n",
      "https://www.moscowmap.ru/streets/ulitsa-semenova-tyanshanskogo.html not div\n",
      "https://www.moscowmap.ru/streets/ulitsa-svyatoslava-rihtera.html not div\n",
      "https://www.moscowmap.ru/streets/ulitsa-very-voloshinoy.html not div\n",
      "https://www.moscowmap.ru/streets/ulitsa-yuriya-nikulina.html not div\n",
      "https://www.moscowmap.ru/streets/ulitsa-zelenye-gory.html not div\n",
      "https://www.moscowmap.ru/streets/veteranov-prospekt.html not div\n",
      "https://www.moscowmap.ru/streets/vetkin-proyezd.html not div\n",
      "2000\n",
      "https://www.moscowmap.ru/streets/vokzalnaya-ploshhad-vnukovo.html not div\n",
      "https://www.moscowmap.ru/streets/vokzalnaya-ulitsa.html not div\n",
      "https://www.moscowmap.ru/streets/volodarskoye-shosse.html not div\n",
      "https://www.moscowmap.ru/streets/voznesensky-proyezd.html not div\n"
     ]
    },
    {
     "data": {
      "text/plain": [
       "2154"
      ]
     },
     "execution_count": 13,
     "metadata": {},
     "output_type": "execute_result"
    }
   ],
   "source": [
    "get_houses_links()"
   ]
  },
  {
   "cell_type": "code",
   "execution_count": null,
   "metadata": {},
   "outputs": [],
   "source": []
  },
  {
   "cell_type": "code",
   "execution_count": null,
   "metadata": {},
   "outputs": [],
   "source": []
  }
 ],
 "metadata": {
  "kernelspec": {
   "display_name": "Python 3",
   "language": "python",
   "name": "python3"
  },
  "language_info": {
   "codemirror_mode": {
    "name": "ipython",
    "version": 3
   },
   "file_extension": ".py",
   "mimetype": "text/x-python",
   "name": "python",
   "nbconvert_exporter": "python",
   "pygments_lexer": "ipython3",
   "version": "3.7.3"
  }
 },
 "nbformat": 4,
 "nbformat_minor": 2
}
