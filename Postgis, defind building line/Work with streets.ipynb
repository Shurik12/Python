{
 "cells": [
  {
   "cell_type": "code",
   "execution_count": 1,
   "metadata": {},
   "outputs": [
    {
     "name": "stdout",
     "output_type": "stream",
     "text": [
      "Connection established with <cursor object at 0x7f31f4746d10; closed: 0>\n"
     ]
    }
   ],
   "source": [
    "from Functions import *\n",
    "connection, cursor = get_connection(\"mydatabase\", \"shurik\", \"Lampard8\", \"localhost\", \"5432\")"
   ]
  },
  {
   "cell_type": "code",
   "execution_count": 9,
   "metadata": {},
   "outputs": [],
   "source": [
    "sql = \"\"\"\n",
    "        SELECT highway\n",
    "        FROM streets\n",
    "        GROUP BY highway\n",
    "        \"\"\"\n",
    "\n",
    "sql1 = \"\"\"\n",
    "        SELECT name, highway\n",
    "        FROM streets\n",
    "        WHERE highway = '%s'\n",
    "        LIMIT 10\n",
    "        \"\"\"\n",
    "cursor.execute(sql)\n",
    "array = []\n",
    "for line in cursor.fetchall():\n",
    "    array.append(line[0])\n",
    "with open(\"type_road.tsv\", \"w\") as f_w:\n",
    "    for i in array:\n",
    "        cursor.execute(sql1 % i)\n",
    "        for line in cursor.fetchall():\n",
    "             f_w.write(line[0]+\"\\t\"+line[1]+\"\\n\")"
   ]
  },
  {
   "cell_type": "code",
   "execution_count": null,
   "metadata": {},
   "outputs": [],
   "source": []
  }
 ],
 "metadata": {
  "kernelspec": {
   "display_name": "Python 3",
   "language": "python",
   "name": "python3"
  },
  "language_info": {
   "codemirror_mode": {
    "name": "ipython",
    "version": 3
   },
   "file_extension": ".py",
   "mimetype": "text/x-python",
   "name": "python",
   "nbconvert_exporter": "python",
   "pygments_lexer": "ipython3",
   "version": "3.7.4"
  }
 },
 "nbformat": 4,
 "nbformat_minor": 2
}
