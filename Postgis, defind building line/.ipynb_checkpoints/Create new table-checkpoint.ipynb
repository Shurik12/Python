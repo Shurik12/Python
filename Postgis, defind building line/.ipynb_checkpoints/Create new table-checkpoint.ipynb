{
 "cells": [
  {
   "cell_type": "code",
   "execution_count": null,
   "metadata": {},
   "outputs": [],
   "source": [
    "sql1 = \"\"\"\n",
    "        CREATE TABLE litov(id SERIAL PRIMARY KEY, street TEXT, house TEXT)\n",
    "        \"\"\"\n",
    "sql2 = \"\"\"\n",
    "        SELECT AddGeometryColumn('litov', 'way', 4326, 'LINESTRING', 2)\n",
    "        \"\"\"\n",
    "sql3 = \"\"\"\n",
    "        CREATE INDEX litov_idx ON litov USING gist(way);\n",
    "        \"\"\"\n",
    "sql4 = \"\"\"\n",
    "        INSERT INTO litov(street, house, way)\n",
    "        VALUES ('%s', '%s', ST_LineFromText('%s', 4326))\n",
    "        \"\"\"\n",
    "cursor.execute(sql1)\n",
    "cursor.execute(sql2)\n",
    "cursor.execute(sql3)\n",
    "connection.commit()"
   ]
  }
 ],
 "metadata": {
  "kernelspec": {
   "display_name": "Python 3",
   "language": "python",
   "name": "python3"
  },
  "language_info": {
   "codemirror_mode": {
    "name": "ipython",
    "version": 3
   },
   "file_extension": ".py",
   "mimetype": "text/x-python",
   "name": "python",
   "nbconvert_exporter": "python",
   "pygments_lexer": "ipython3",
   "version": "3.7.4"
  }
 },
 "nbformat": 4,
 "nbformat_minor": 2
}
