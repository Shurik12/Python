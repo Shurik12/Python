{
 "cells": [
  {
   "cell_type": "code",
   "execution_count": 1,
   "metadata": {},
   "outputs": [
    {
     "name": "stdout",
     "output_type": "stream",
     "text": [
      "Connection established with <cursor object at 0x7f95afcdfc00; closed: 0>\n"
     ]
    }
   ],
   "source": [
    "import math\n",
    "from Functions import *\n",
    "connection, cursor = get_connection(\"mydatabase\", \"shurik\", \"Lampard8\", \"localhost\", \"5432\")"
   ]
  },
  {
   "cell_type": "code",
   "execution_count": null,
   "metadata": {},
   "outputs": [],
   "source": [
    "sql1 = \"\"\"\n",
    "        CREATE TABLE litov(id SERIAL PRIMARY KEY, street TEXT, house TEXT)\n",
    "        \"\"\"\n",
    "sql2 = \"\"\"\n",
    "        SELECT AddGeometryColumn('litov', 'way', 4326, 'LINESTRING', 2)\n",
    "        \"\"\"\n",
    "sql3 = \"\"\"\n",
    "        CREATE INDEX litov_idx ON litov USING gist(way);\n",
    "        \"\"\"\n",
    "sql4 = \"\"\"\n",
    "        INSERT INTO litov(street, house, way)\n",
    "        VALUES ('%s', '%s', ST_LineFromText('%s', 4326))\n",
    "        \"\"\"\n",
    "cursor.execute(sql1)\n",
    "cursor.execute(sql2)\n",
    "cursor.execute(sql3)\n",
    "connection.commit()"
   ]
  },
  {
   "cell_type": "code",
   "execution_count": 4,
   "metadata": {},
   "outputs": [],
   "source": [
    "sql = \"DELETE FROM litov\"\n",
    "cursor.execute(sql)\n",
    "connection.commit()"
   ]
  },
  {
   "cell_type": "code",
   "execution_count": null,
   "metadata": {},
   "outputs": [],
   "source": []
  }
 ],
 "metadata": {
  "kernelspec": {
   "display_name": "Python 3",
   "language": "python",
   "name": "python3"
  },
  "language_info": {
   "codemirror_mode": {
    "name": "ipython",
    "version": 3
   },
   "file_extension": ".py",
   "mimetype": "text/x-python",
   "name": "python",
   "nbconvert_exporter": "python",
   "pygments_lexer": "ipython3",
   "version": "3.7.4"
  }
 },
 "nbformat": 4,
 "nbformat_minor": 2
}
