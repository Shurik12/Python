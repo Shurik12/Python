{
 "cells": [
  {
   "cell_type": "markdown",
   "metadata": {},
   "source": [
    "## Запуск семантического парсера в интерактивной среде"
   ]
  },
  {
   "cell_type": "code",
   "execution_count": 114,
   "metadata": {},
   "outputs": [
    {
     "name": "stdout",
     "output_type": "stream",
     "text": [
      "{'entrance_placement': 'yard', 'entrance_type': 'joint', 'purpose': 'non_residential', 'floor': 1}\n"
     ]
    }
   ],
   "source": [
    "from semantic_parser import SemanticParser\n",
    "parser = SemanticParser('config.json')\n",
    "print(parser.parse('предлагаю нежилое помещение на 1 этаже, общий вход со двора'))"
   ]
  },
  {
   "cell_type": "code",
   "execution_count": 17,
   "metadata": {},
   "outputs": [
    {
     "name": "stdout",
     "output_type": "stream",
     "text": [
      "{'entrance_placement': 'yard', 'entrance_type': 'joint', 'purpose': 'non_residential', 'floor': 1}\n"
     ]
    }
   ],
   "source": [
    "print(parser.parse('предлагаю нежилое помещение площадью 34 кв метра 2 сан узла  на 1 этаже, общий вход со двора'))"
   ]
  },
  {
   "cell_type": "code",
   "execution_count": 18,
   "metadata": {},
   "outputs": [
    {
     "name": "stdout",
     "output_type": "stream",
     "text": [
      "{'entrance_type': 'joint', 'purpose': 'non_residential'}\n"
     ]
    }
   ],
   "source": [
    "print(parser.parse('предлагаю нежилое помещение на 4 этаже, общий вход со двора'))"
   ]
  },
  {
   "cell_type": "code",
   "execution_count": 21,
   "metadata": {},
   "outputs": [],
   "source": [
    "text = \"7225 Сдается помещение свободного назначения с отдельным входом. Пешая доступность от станции метро. Идеально под общепит полного цикла, бар, кальянную. Большие витринные окна. Рекламный потенциал. Электрическая мощность 50 +кВТ. Мокрые точки. Вытяжка. Коммунальные и эксплуатационные платежи по счетчикам. Парковка стихийная. Каникулы по условиям договора. Аренда прямая. Предоставление юр. адреса обсуждается. БЕЗ КОМИССИИ. first 78.77% not_included 89.87% display_window 99.74% unknown 99.79% separate 99.99% non_residential Павильон  на Мельнице в аренду.Сдается в аренду павильон на ТОГК Славянский мир ( Строительная ярмарка Мельница).. Павильон расположен  на второй линии  от центрального въезда со МКАД на ТОГК Славянский мир (строительный рынок  Мельница\""
   ]
  },
  {
   "cell_type": "code",
   "execution_count": 23,
   "metadata": {},
   "outputs": [
    {
     "name": "stdout",
     "output_type": "stream",
     "text": [
      "{'entrance_placement': 'street', 'entrance_type': 'separate', 'display_window': 'display_window', 'purpose': 'non_residential', 'communal_included': 'not_included'}\n"
     ]
    }
   ],
   "source": [
    "print(parser.parse(text))"
   ]
  },
  {
   "cell_type": "code",
   "execution_count": 2,
   "metadata": {},
   "outputs": [
    {
     "data": {
      "text/plain": [
       "FeatureUnion(n_jobs=None,\n",
       "             transformer_list=[('pca',\n",
       "                                PCA(copy=True, iterated_power='auto',\n",
       "                                    n_components=None, random_state=None,\n",
       "                                    svd_solver='auto', tol=0.0, whiten=False)),\n",
       "                               ('truncatedsvd',\n",
       "                                TruncatedSVD(algorithm='randomized',\n",
       "                                             n_components=2, n_iter=5,\n",
       "                                             random_state=None, tol=0.0))],\n",
       "             transformer_weights=None, verbose=False)"
      ]
     },
     "execution_count": 2,
     "metadata": {},
     "output_type": "execute_result"
    }
   ],
   "source": [
    "from sklearn.pipeline import make_pipeline, make_union\n",
    "from sklearn.decomposition import PCA, TruncatedSVD\n",
    "make_union(PCA(), TruncatedSVD())    "
   ]
  },
  {
   "cell_type": "markdown",
   "metadata": {},
   "source": [
    "## Работа с базой данных"
   ]
  },
  {
   "cell_type": "code",
   "execution_count": 1,
   "metadata": {},
   "outputs": [],
   "source": [
    "import psycopg2\n",
    "import codecs"
   ]
  },
  {
   "cell_type": "code",
   "execution_count": 23,
   "metadata": {},
   "outputs": [],
   "source": [
    "connection = psycopg2.connect(\n",
    "                         dbname='sas_db', \n",
    "                         user='sas', \n",
    "                         password='oxQ2eJT7Snsz',\n",
    "                         host='185.98.83.27', \n",
    "                         port='5100' \n",
    "                        )\n",
    "cursor = connection.cursor()"
   ]
  },
  {
   "cell_type": "code",
   "execution_count": 44,
   "metadata": {},
   "outputs": [
    {
     "name": "stdout",
     "output_type": "stream",
     "text": [
      "[('buildings',), ('buildings_lease',), ('businesses',), ('placements5',), ('businesses_lease',), ('garages',), ('garages_lease',), ('industrials',), ('industrials_lease',), ('livings',), ('offices',), ('offices_lease',), ('livings_mo',), ('commercial_requests_histrory',), ('placements_clean',), ('placements_depr',), ('placements_depr_lease',), ('shoppings_lease',), ('zkh',), ('shoppings',), ('warehouses_lease',), ('warehouses',), ('residential_real_estate_history',), ('alembic_version',)]\n",
      "[(2170880,)]\n",
      "Done!\n"
     ]
    }
   ],
   "source": [
    "#print ( connection.get_dsn_parameters(),\"\\n\")\n",
    "\n",
    "cursor.execute(\"SELECT version();\")\n",
    "record = cursor.fetchone()\n",
    "#print(\"You are connected to - \", record,\"\\n\")\n",
    "\n",
    "cursor.execute(\"SELECT pg_database_size('sas_db')\")\n",
    "cursor.fetchone()\n",
    "\n",
    "cursor.execute(\"SELECT table_name FROM information_schema.tables WHERE table_schema NOT IN ('information_schema','pg_catalog')\")\n",
    "print (cursor.fetchall())\n",
    "\n",
    "cursor.execute(\"SELECT pg_relation_size('buildings_lease')\")\n",
    "print (cursor.fetchmany(10))\n",
    "\n",
    "print (\"Done!\")"
   ]
  },
  {
   "cell_type": "code",
   "execution_count": 41,
   "metadata": {},
   "outputs": [],
   "source": [
    "size = 25239552\n",
    "cursor.execute(\"SELECT * FROM buildings_lease LIMIT {size}\".format(size=size))\n",
    "#cursor.execute(\"SELECT * FROM buildings_lease LIMIT {size}\".format(size=size))\n",
    "col_names = [desc[0] for desc in cursor.description]\n",
    "batch_size = 1024\n",
    "batch = cursor.fetchmany(size)\n",
    "with codecs.open(\"f1.tsv\", mode='w', encoding='utf-8') as f:\n",
    "    f.write(\"\\t\".join(col_names))\n",
    "    f.write(\"\\n\")\n",
    "    f.flush()\n",
    "    for start_index in range(0, size, batch_size):\n",
    "        for line in batch[start_index: start_index+batch_size]:\n",
    "            f.write(\"\\t\".join(str(i) for i in line))\n",
    "            f.write(\"\\n\")\n",
    "        f.flush()"
   ]
  },
  {
   "cell_type": "code",
   "execution_count": 42,
   "metadata": {
    "scrolled": true
   },
   "outputs": [
    {
     "name": "stdout",
     "output_type": "stream",
     "text": [
      "['id', 'source', 'externalid', 'site', 'url', 'screenpath', 'adtype', 'category', 'created_at', 'updated_at', 'parsed_at', 'description', 'agentphone', 'agentcategory', 'agentcompany', 'agentname', 'fulladdress', 'county', 'fedokrug', 'region', 'district', 'localityname', 'subdistrict', 'sublocalityname', 'street', 'house', 'building', 'postalcode', 'apartment', 'latitude', 'longitude', 'dirtyaddress', 'precision', 'yandexfile', 'metroname', 'metrodistance', 'metrotransport', 'metrotime', 'propertytype', 'conditiontype', 'layout', 'totalarea', 'hasfurniture', 'entrance', 'availablefrom', 'taxnumber', 'isinhiddenbase', 'buildingname', 'buildingtype', 'houselinetype', 'buildingclass', 'developer', 'managementcompany', 'ventilationtype', 'conditioningtype', 'extinguishingsystemtype', 'statustype', 'landarea', 'landunit', 'landtype', 'liftscount', 'lifttype1', 'loadcapacity1', 'lifttype2', 'loadcapacity2', 'lifttype3', 'loadcapacity3', 'floorscount', 'ceilingheight', 'heatingtype', 'parkingtype', 'parkingplaces', 'parkingpricemonthly', 'parkingisfree', 'price', 'currency', 'price2', 'currency2', 'price3', 'currency3', 'vatprices', 'vattype', 'contracttype', 'communal_payments', 'isdouble']\n"
     ]
    }
   ],
   "source": [
    "size = 3\n",
    "cursor.execute(\"SELECT * FROM buildings_lease LIMIT {size}\".format(size=size))\n",
    "col_names = [desc[0] for desc in cursor.description]\n",
    "print (col_names)\n",
    "#print (cursor.description[37])"
   ]
  },
  {
   "cell_type": "code",
   "execution_count": 43,
   "metadata": {},
   "outputs": [
    {
     "name": "stdout",
     "output_type": "stream",
     "text": [
      "description: 11\n",
      "conditiontype: 39\n",
      "entrance: 43\n",
      "houselinetype: 49\n",
      "floorscount: 67\n",
      "vattype: 81\n"
     ]
    }
   ],
   "source": [
    "for i in range(len(col_names)):\n",
    "    if col_names[i] == 'houselinetype':\n",
    "        print ('houselinetype:', i)\n",
    "    if col_names[i] == 'hasshopwindows':\n",
    "        print ('hasshopwindows:', i)\n",
    "    if col_names[i] == 'entrance':\n",
    "        print ('entrance:', i)\n",
    "    if col_names[i] == 'floorscount':\n",
    "        print ('floorscount:', i)\n",
    "    if col_names[i] == 'conditiontype':\n",
    "        print ('conditiontype:', i)\n",
    "    if col_names[i] == 'vattype':\n",
    "        print ('vattype:', i)\n",
    "    if col_names[i] == 'isbuildingliving':\n",
    "        print ('isbuildingliving:', i)  \n",
    "    if col_names[i] == 'description':\n",
    "        print ('description:', i)  \n",
    "        "
   ]
  },
  {
   "cell_type": "code",
   "execution_count": 66,
   "metadata": {},
   "outputs": [
    {
     "name": "stdout",
     "output_type": "stream",
     "text": [
      "None\n"
     ]
    }
   ],
   "source": [
    "print (cursor.description)"
   ]
  },
  {
   "cell_type": "code",
   "execution_count": 7,
   "metadata": {},
   "outputs": [],
   "source": [
    "cursor.close()\n",
    "connection.close()"
   ]
  },
  {
   "cell_type": "code",
   "execution_count": 11,
   "metadata": {},
   "outputs": [
    {
     "name": "stdout",
     "output_type": "stream",
     "text": [
      "id\tRoomsNum\tStorey\tStoreysNum\tBuildingType\tBuildingSeries\tBuildingPeriod\tPrice\tTotalArea\tLivingSpaceArea\tKitchenArea\tRawAddress\tRegion\tCity\tStreet\tHouse\tBuilding\tFlatNumber\tSubwayStation\tSubwayTime\tSubwayTimeType\tPhoneNumber\tUrl\tDateOfAnnouncement\tAdditional\tSourceId\tLastSeen\tArchive\tHash\tPrecision\tAddress\tScreenshotFilePath\tcreated_at\tmodified_at\tStudio\tPriceStrict\tSubwayDistance\tComment\tSubwayStation2\tSubwayStation3\tSubwayDistance2\tSubwayDistance3\tVersion\tRegionDistrict\tDistrict\tMicroDistrict\tIsNewBuilding\tHandOverDateRaw\tRoomsAreaRaw\tSaleType\tIsPremium\tElevatorsNum\tServiceElevatorsNum\tBalconiesNum\tWCsNum\tWindowView\tLocalPhoneExists\tInternetExists\tGasSupplyExists\tSecurityExists\tRefuseChuteExists\tRepairRaw\tBuildingId\tDistrictId\tAgentName\tAgentId\tAgentPhonenums\tSource\tSaleTypeRaw\tIsPayed\tLoggiasNum\tWCsJointNum\tPrevId\tLat\tLon\tOpenLayout\tRoom\tPart\tBuildingYear\tPriceUsd\tHeatSupply\tWaterSupply\tCeilingHeight\tMultiRoom\tApartmentType\tAgentType\tAgentAdditionalInfo\tAgentUrl\tGdeEtotDomHouseId\tDataLoaderKey\tIsBad\tPriceEur\tIsApproved\tApprovalInfo\tFlatId\tParkingRaw\tProtectedTerritory\tResidentialComplex\tResidentialComplexUrl\tRoomFurnitureExists\tKitchenFurnitureExists\tRefrigeratorExists\tConditionerExists\tBuiltInAppliancesExists\tMetroLat\tMetroLon\tMetroPrecision\tDateOfUpdate\tViewsNum\tPartnerId\tPartnerName\tPartnerUrl\tFloorCoveringRaw\tcurrency\thtmlfile\tisnewbuilding\tyandexfile\tfedokrug\tdirtyaddress\tprecision\tfailregion\tisdouble\n",
      "\n"
     ]
    }
   ],
   "source": [
    "with codecs.open(\"f.tsv\", mode='r', encoding='utf-8') as f:\n",
    "    for i in range (1):\n",
    "        print( f.readline())"
   ]
  },
  {
   "cell_type": "code",
   "execution_count": 40,
   "metadata": {},
   "outputs": [
    {
     "data": {
      "text/plain": [
       "24648.0"
      ]
     },
     "execution_count": 40,
     "metadata": {},
     "output_type": "execute_result"
    }
   ],
   "source": [
    "25239552/1024"
   ]
  },
  {
   "cell_type": "code",
   "execution_count": null,
   "metadata": {},
   "outputs": [],
   "source": [
    "# 128*2"
   ]
  },
  {
   "cell_type": "markdown",
   "metadata": {},
   "source": [
    "## Работа с кусками кода"
   ]
  },
  {
   "cell_type": "code",
   "execution_count": 1,
   "metadata": {},
   "outputs": [],
   "source": [
    "import numpy as np"
   ]
  },
  {
   "cell_type": "code",
   "execution_count": 2,
   "metadata": {},
   "outputs": [
    {
     "name": "stdout",
     "output_type": "stream",
     "text": [
      "[1 2 3] [1 2 3]\n"
     ]
    }
   ],
   "source": [
    "a = np.array([1,2,3])\n",
    "b = np.array([1,2,3])\n",
    "print (a,b)"
   ]
  },
  {
   "cell_type": "code",
   "execution_count": 3,
   "metadata": {},
   "outputs": [
    {
     "name": "stdout",
     "output_type": "stream",
     "text": [
      "[1 4 9]\n"
     ]
    }
   ],
   "source": [
    "print (a*b)"
   ]
  },
  {
   "cell_type": "code",
   "execution_count": null,
   "metadata": {},
   "outputs": [],
   "source": []
  }
 ],
 "metadata": {
  "kernelspec": {
   "display_name": "Python 3",
   "language": "python",
   "name": "python3"
  },
  "language_info": {
   "codemirror_mode": {
    "name": "ipython",
    "version": 3
   },
   "file_extension": ".py",
   "mimetype": "text/x-python",
   "name": "python",
   "nbconvert_exporter": "python",
   "pygments_lexer": "ipython3",
   "version": "3.7.3"
  }
 },
 "nbformat": 4,
 "nbformat_minor": 2
}
