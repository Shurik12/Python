{
 "cells": [
  {
   "cell_type": "markdown",
   "metadata": {},
   "source": [
    "## Библиотеки"
   ]
  },
  {
   "cell_type": "code",
   "execution_count": 7,
   "metadata": {},
   "outputs": [],
   "source": [
    "from sshtunnel import SSHTunnelForwarder\n",
    "from pymongo import MongoClient\n",
    "import json\n",
    "from start import start_parser\n",
    "import pprint\n",
    "import openpyxl as px # работа с  xlsx файлами\n",
    "import numpy"
   ]
  },
  {
   "cell_type": "markdown",
   "metadata": {},
   "source": [
    "## Подключение к бд"
   ]
  },
  {
   "cell_type": "code",
   "execution_count": 8,
   "metadata": {},
   "outputs": [],
   "source": [
    "MONGO_PORT = 55556\n",
    "MONGO_DB = \"fincase\"\n",
    "MONGO_USER = \"root\"\n",
    "MONGO_PASS = \"Gfcbyu&478532@#Gfhcbyu\"\n",
    "SERVER_HOST = '185.98.83.65'\n",
    "SERVER_PORT = 20032\n",
    "\n",
    "MONGO_PORT = 55556\n",
    "MONGO_DB = \"fincase\"\n",
    "MONGO_USER = \"shesterin\"\n",
    "MONGO_PASS = \"sK349Acm9qwD92s\"\n",
    "SERVER_HOST = '192.168.0.78'\n",
    "SERVER_PORT = 22"
   ]
  },
  {
   "cell_type": "code",
   "execution_count": 9,
   "metadata": {},
   "outputs": [
    {
     "name": "stdout",
     "output_type": "stream",
     "text": [
      "41339\n"
     ]
    }
   ],
   "source": [
    "server = SSHTunnelForwarder(\n",
    "    (SERVER_HOST, 22),\n",
    "    ssh_username = MONGO_USER,\n",
    "    ssh_password = MONGO_PASS,\n",
    "    remote_bind_address = ('localhost', MONGO_PORT)\n",
    ")\n",
    "\n",
    "server.start()\n",
    "print(server.local_bind_port)"
   ]
  },
  {
   "cell_type": "code",
   "execution_count": 12,
   "metadata": {},
   "outputs": [
    {
     "name": "stdout",
     "output_type": "stream",
     "text": [
      "['admin', 'config', 'fincase', 'local', 'test']\n",
      "['storage', 'garage', 'building', 'carservice', 'psn', 'tradingArea', 'production', 'house', 'investmoscowLots', 'room', 'flat', 'land', 'office']\n"
     ]
    }
   ],
   "source": [
    "client = MongoClient('localhost', server.local_bind_port)\n",
    "db = client[MONGO_DB]\n",
    "print (client.database_names())\n",
    "print (client[MONGO_DB].collection_names())"
   ]
  },
  {
   "cell_type": "code",
   "execution_count": 5,
   "metadata": {},
   "outputs": [
    {
     "name": "stdout",
     "output_type": "stream",
     "text": [
      "{\"admin\": [\"system.version\"], \"config\": [\"system.sessions\"], \"fincase\": [\"building\", \"storage\", \"garage\", \"psn\", \"tradingArea\", \"production\", \"room\", \"investmoscowLots\", \"flat\", \"land\", \"office\"], \"local\": [\"startup_log\"]}\n"
     ]
    }
   ],
   "source": [
    "d = dict((db, [collection for collection in client[db].collection_names()])\n",
    "        for db in client.database_names())\n",
    "print (json.dumps(d))"
   ]
  },
  {
   "cell_type": "markdown",
   "metadata": {},
   "source": [
    "## Основная функция"
   ]
  },
  {
   "cell_type": "code",
   "execution_count": 7,
   "metadata": {},
   "outputs": [],
   "source": [
    "def get_urls(client, MONGO_DB):\n",
    "    try:\n",
    "        for collection in db.collection_names():\n",
    "            print (collection + ' start!')\n",
    "            if collection == \"building\":\n",
    "        # смотрим коллекцию объявлений где признак null, в нашем случае лучше сделать рекурсию,\n",
    "        #что бы этот процесс не заканчивался\n",
    "                for a in db[collection].find({\"$and\":\n",
    "                                                [{\"pageId\": {\"$ne\": None}}, \n",
    "                                                        {\"sematic\":{\"$eq\": None}}]}, \n",
    "                                                           {\"building_house_line_type\": 1, \n",
    "                                                            \"condition_type\": 1, \n",
    "                                                            \"description\": 1,\n",
    "                                                            \"vat_type\" : 1, \n",
    "                                                            \"pageId\": 1}).batch_size(30):\n",
    "                    data = a['description']\n",
    "                    result = start_parser(data)   \n",
    "                    if a['building_house_line_type'] == None:\n",
    "                        db[collection].update_one({\"pageId\": a[\"pageId\"]},\n",
    "                                                                    {\"$set\": \n",
    "                                                                     {\"building_house_line_type\": result.iloc[0][\"houselinetype\"]}})\n",
    "                    if a['condition_type'] == None:\n",
    "                            #a['condition_type'] = result.iloc[0][\"conditiontype\"] \n",
    "                        db[collection].update_one({\"pageId\": a[\"pageId\"]},\n",
    "                                                                    {\"$set\": \n",
    "                                                                    {\"condition_type\": result.iloc[0][\"conditiontype\"]}})\n",
    "                    if a['vat_type'] == None:\n",
    "                            #a['vat_type'] = result.iloc[0][\"vattype\"] \n",
    "                        db[collection].update_one({\"pageId\": a[\"pageId\"]},\n",
    "                                                                    {\"$set\": \n",
    "                                                                     {\"vat_type\": result.iloc[0][\"vattype\"]}})           \n",
    "                        db[collection].update_one({\"pageId\": a[\"pageId\"]},\n",
    "                                                                    {\"$set\": \n",
    "                                                                     {\"sematic\": \"true\"}})\n",
    "\n",
    "            elif collection == \"storage\":\n",
    "                for a in db[collection].find({\"$and\":\n",
    "                                                            [{\"pageId\": {\"$ne\": None}}, \n",
    "                                                             {\"sematic\":{\"$eq\": None}}]}, \n",
    "                                                           {\"floor_number\": 1, \n",
    "                                                            \"condition_type\": 1,\n",
    "                                                            \"description\": 1,\n",
    "                                                            \"vat_type\" : 1, \n",
    "                                                            \"pageId\": 1}).batch_size(30):\n",
    "                    data = a['description']\n",
    "                    result = start_parser(data)\n",
    "                    if a['floor_number'] == None:\n",
    "                        db[collection].update_one({\"pageId\": a[\"pageId\"]},\n",
    "                                                                {\"$set\": \n",
    "                                                                 {\"floor_number\": result.iloc[0][\"conditiontype\"]}})\n",
    "                    if a['condition_type'] == None:\n",
    "                        db[collection].update_one({\"pageId\": a[\"pageId\"]},\n",
    "                                                                {\"$set\": \n",
    "                                                                 {\"condition_type\": result.iloc[0][\"conditiontype\"]}})\n",
    "                    if a['vat_type'] == None:\n",
    "                        db[collection].update_one({\"pageId\": a[\"pageId\"]},\n",
    "                                                                {\"$set\": \n",
    "                                                                 {\"vat_type\": result.iloc[0][\"vattype\"]}})\n",
    "                    db[collection].update_one({\"pageId\": a[\"pageId\"]},\n",
    "                                                            {\"$set\": \n",
    "                                                            {\"sematic\": \"true\"}})\n",
    "                    \n",
    "            elif collection == \"garage\":\n",
    "                for a in db[collection].find({\"$and\":\n",
    "                                                            [{\"pageId\": {\"$ne\": None}}, \n",
    "                                                             {\"sematic\":{\"$eq\": None}}]}, \n",
    "                                                           {\"vat_type\" : 1,\n",
    "                                                            \"description\": 1,\n",
    "                                                            \"pageId\": 1}).batch_size(30):\n",
    "                    data = a['description']\n",
    "                    result = start_parser(data)       \n",
    "                    if a['vat_type'] == None:\n",
    "                        db[collection].update_one({\"pageId\": a[\"pageId\"]},\n",
    "                                                                {\"$set\": \n",
    "                                                                 {\"vat_type\": result.iloc[0][\"vattype\"]}})\n",
    "                    db[collection].update_one({\"pageId\": a[\"pageId\"]},\n",
    "                                                            {\"$set\": \n",
    "                                                            {\"sematic\": \"true\"}})\n",
    "                    \n",
    "            elif collection == \"psn\":\n",
    "                for a in db[collection].find({\"$and\":\n",
    "                                                            [{\"pageId\": {\"$ne\": None}}, \n",
    "                                                             {\"sematic\":{\"$eq\": None}}]}, \n",
    "                                                           {\"has_shop_windows\": 1, \n",
    "                                                            \"floor_number\": 1, \n",
    "                                                            \"condition_type\": 1, \n",
    "                                                            \"description\": 1,\n",
    "                                                            \"vat_type\" : 1, \n",
    "                                                            \"pageId\": 1}).batch_size(30):     \n",
    "                    data = a['description']\n",
    "                    result = start_parser(data)\n",
    "                    if a['floor_number'] == None:\n",
    "                        sd = result.iloc[0][\"floornumber\"]\n",
    "                        print(type(sd))\n",
    "                        db[collection].update_one({\"pageId\": a[\"pageId\"]},\n",
    "                                                                {\"$set\": \n",
    "                                                                 {\"floor_number\": result.iloc[0][\"floornumber\"]}})                                 \n",
    "                    if a['condition_type'] == None:\n",
    "                        db[collection].update_one({\"pageId\": a[\"pageId\"]},\n",
    "                                                                {\"$set\": \n",
    "                                                                 {\"condition_type\": result.iloc[0][\"conditiontype\"]}})\n",
    "                    if a['has_shop_windows'] == None:\n",
    "                        db[collection].update_one({\"pageId\": a[\"pageId\"]},\n",
    "                                                                {\"$set\": \n",
    "                                                                 {\"has_shop_windows\": result.iloc[0][\"hasshopwindows\"]}}) \n",
    "                    if a['vat_type'] == None:\n",
    "                        db[collection].update_one({\"pageId\": a[\"pageId\"]},\n",
    "                                                                {\"$set\": \n",
    "                                                                 {\"vat_type\": result.iloc[0][\"vattype\"]}})\n",
    "                    db[collection].update_one({\"pageId\": a[\"pageId\"]},\n",
    "                                                            {\"$set\": \n",
    "                                                            {\"sematic\": \"true\"}})\n",
    "                    \n",
    "            elif collection == \"tradingArea\":\n",
    "                for a in db[collection].find({\"$and\":\n",
    "                                                            [{\"pageId\": {\"$ne\": None}}, \n",
    "                                                             {\"sematic\":{\"$eq\": None}}]}, \n",
    "                                                           {\"floor_number\": 1, \n",
    "                                                            \"description\": 1,\n",
    "                                                            \"condition_type\": 1, \n",
    "                                                            \"vat_type\" : 1, \n",
    "                                                            \"pageId\": 1}).batch_size(30):\n",
    "                    data = a['description']\n",
    "                    result = start_parser(data)                         \n",
    "                    if a['floor_number'] == None:\n",
    "                        db[collection].update_one({\"pageId\": a[\"pageId\"]},\n",
    "                                                                {\"$set\": \n",
    "                                                                 {\"floor_number\": result.iloc[0][\"floornumber\"]}})                                  \n",
    "                    if a['condition_type'] == None:\n",
    "                        db[collection].update_one({\"pageId\": a[\"pageId\"]},\n",
    "                                                                {\"$set\": \n",
    "                                                                 {\"condition_type\": result.iloc[0][\"conditiontype\"]}})\n",
    "                    if a['vat_type'] == None:\n",
    "                        db[collection].update_one({\"pageId\": a[\"pageId\"]},\n",
    "                                                                {\"$set\": \n",
    "                                                                 {\"vat_type\": result.iloc[0][\"vattype\"]}})\n",
    "                    db[collection].update_one({\"pageId\": a[\"pageId\"]},\n",
    "                                                            {\"$set\": \n",
    "                                                            {\"sematic\": \"true\"}})\n",
    "                    \n",
    "            elif collection == \"production\":\n",
    "                for a in db[collection].find({\"$and\":\n",
    "                                                            [{\"pageId\": {\"$ne\": None}}, \n",
    "                                                             {\"sematic\":{\"$eq\": None}}]}, \n",
    "                                                           {\"floor_number\": 1, \n",
    "                                                            \"condition_type\": 1, \n",
    "                                                            \"description\": 1,\n",
    "                                                            \"vat_type\" : 1, \n",
    "                                                            \"pageId\": 1}).batch_size(30):\n",
    "                    data = a['description']\n",
    "                    result = start_parser(data)    \n",
    "                    if a['floor_number'] == None:\n",
    "                        db[collection].update_one({\"pageId\": a[\"pageId\"]},\n",
    "                                                                {\"$set\": \n",
    "                                                                 {\"floor_number\": result.iloc[0][\"floornumber\"]}})                                \n",
    "                    if a['condition_type'] == None:\n",
    "                        db[collection].update_one({\"pageId\": a[\"pageId\"]},\n",
    "                                                                {\"$set\": \n",
    "                                                                 {\"condition_type\": result.iloc[0][\"conditiontype\"]}})\n",
    "                    if a['vat_type'] == None:\n",
    "                        db[collection].update_one({\"pageId\": a[\"pageId\"]},\n",
    "                                                                {\"$set\": \n",
    "                                                                 {\"vat_type\": result.iloc[0][\"vattype\"]}})  \n",
    "                    db[collection].update_one({\"pageId\": a[\"pageId\"]},\n",
    "                                                            {\"$set\": \n",
    "                                                            {\"sematic\": \"true\"}})       \n",
    "            elif collection == \"land\":\n",
    "                for a in db[collection].find({\"$and\":\n",
    "                                                            [{\"pageId\": {\"$ne\": None}}, \n",
    "                                                             {\"sematic\":{\"$eq\": None}}]}, \n",
    "                                                             {\"vat_type\" : 1, \n",
    "                                                              \"description\": 1,\n",
    "                                                              \"pageId\": 1}).batch_size(30):\n",
    "                    data = a['description']\n",
    "                    result = start_parser(data)       \n",
    "                    if a['vat_type'] == None:\n",
    "                        db[collection].update_one({\"pageId\": a[\"pageId\"]},\n",
    "                                                                {\"$set\": \n",
    "                                                                 {\"vat_type\": result.iloc[0][\"vattype\"]}})\n",
    "                    db[collection].update_one({\"pageId\": a[\"pageId\"]},\n",
    "                                                            {\"$set\": \n",
    "                                                            {\"sematic\": \"true\"}})                  \n",
    "            elif collection == \"office\":\n",
    "                for a in db[collection].find({\"$and\":\n",
    "                                                            [{\"pageId\": {\"$ne\": None}}, \n",
    "                                                             {\"sematic\":{\"$eq\": None}}]}, \n",
    "                                                             {\"floor_number\": 1, \n",
    "                                                              \"condition_type\": 1,\n",
    "                                                              \"description\": 1,\n",
    "                                                              \"vat_type\": 1,\n",
    "                                                              \"pageId\": 1}).batch_size(30):\n",
    "                    data = a['description']\n",
    "                    result = start_parser(data) \n",
    "                    if a['floor_number'] == None:\n",
    "                        res = result.iloc[0][\"floornumber\"]\n",
    "                        if res == 0 or res ==-1 or res == 1 or res == 2:\n",
    "                            db[collection].update_one({\"pageId\": a[\"pageId\"]},\n",
    "                                                                    {\"$set\": \n",
    "                                                                     {\"floor_number\": float(res)}})\n",
    "                        elif res == \"unknown\":\n",
    "                            db[collection].update_one({\"pageId\": a[\"pageId\"]},\n",
    "                                                                    {\"$set\": \n",
    "                                                                     {\"floor_number\": None}})\n",
    "\n",
    "                        else:\n",
    "                            db[collection].update_one({\"pageId\": a[\"pageId\"]},\n",
    "                                                                    {\"$set\": \n",
    "                                                                     {\"floor_number\": 999}})\n",
    "\n",
    "                    if a['condition_type'] == None:\n",
    "                        db[collection].update_one({\"pageId\": a[\"pageId\"]},\n",
    "                                                                {\"$set\": \n",
    "                                                                 {\"condition_type\": result.iloc[0][\"conditiontype\"]}})\n",
    "                    if a['vat_type'] == None:\n",
    "                        db[collection].update_one({\"pageId\": a[\"pageId\"]},\n",
    "                                                                {\"$set\": \n",
    "                                                                 {\"vat_type\": result.iloc[0][\"vattype\"]}})\n",
    "                    db[collection].update_one({\"pageId\": a[\"pageId\"]},\n",
    "                                                            {\"$set\": \n",
    "                                                            {\"sematic\": \"true\"}})\n",
    "            print (collection + ' done!')   \n",
    "        #get_urls()   \n",
    "            #print(\"1\")\n",
    "    except Exception as e:\n",
    "        print(e)\n",
    "def save_sematic_info(collection, id):\n",
    "    collection.update_one({\"pageId\": id}, {\"$set\": {\" sematic\": 'true'}})"
   ]
  },
  {
   "cell_type": "markdown",
   "metadata": {},
   "source": [
    "## Запуск парсера"
   ]
  },
  {
   "cell_type": "code",
   "execution_count": 8,
   "metadata": {
    "scrolled": true
   },
   "outputs": [
    {
     "name": "stdout",
     "output_type": "stream",
     "text": [
      "storage start!\n",
      "storage done!\n",
      "garage start!\n",
      "garage done!\n",
      "building start!\n"
     ]
    },
    {
     "ename": "KeyboardInterrupt",
     "evalue": "",
     "output_type": "error",
     "traceback": [
      "\u001b[0;31m---------------------------------------------------------------------------\u001b[0m",
      "\u001b[0;31mKeyboardInterrupt\u001b[0m                         Traceback (most recent call last)",
      "\u001b[0;32m<ipython-input-8-24d1e09ccf9b>\u001b[0m in \u001b[0;36m<module>\u001b[0;34m\u001b[0m\n\u001b[0;32m----> 1\u001b[0;31m \u001b[0mget_urls\u001b[0m\u001b[0;34m(\u001b[0m\u001b[0mclient\u001b[0m\u001b[0;34m,\u001b[0m \u001b[0mMONGO_DB\u001b[0m\u001b[0;34m)\u001b[0m\u001b[0;34m\u001b[0m\u001b[0;34m\u001b[0m\u001b[0m\n\u001b[0m",
      "\u001b[0;32m<ipython-input-7-8264b9842214>\u001b[0m in \u001b[0;36mget_urls\u001b[0;34m(client, MONGO_DB)\u001b[0m\n\u001b[1;32m     15\u001b[0m                                                             \"pageId\": 1}).batch_size(30):\n\u001b[1;32m     16\u001b[0m                     \u001b[0mdata\u001b[0m \u001b[0;34m=\u001b[0m \u001b[0ma\u001b[0m\u001b[0;34m[\u001b[0m\u001b[0;34m'description'\u001b[0m\u001b[0;34m]\u001b[0m\u001b[0;34m\u001b[0m\u001b[0;34m\u001b[0m\u001b[0m\n\u001b[0;32m---> 17\u001b[0;31m                     \u001b[0mresult\u001b[0m \u001b[0;34m=\u001b[0m \u001b[0mstart_parser\u001b[0m\u001b[0;34m(\u001b[0m\u001b[0mdata\u001b[0m\u001b[0;34m)\u001b[0m\u001b[0;34m\u001b[0m\u001b[0;34m\u001b[0m\u001b[0m\n\u001b[0m\u001b[1;32m     18\u001b[0m                     \u001b[0;32mif\u001b[0m \u001b[0ma\u001b[0m\u001b[0;34m[\u001b[0m\u001b[0;34m'building_house_line_type'\u001b[0m\u001b[0;34m]\u001b[0m \u001b[0;34m==\u001b[0m \u001b[0;32mNone\u001b[0m\u001b[0;34m:\u001b[0m\u001b[0;34m\u001b[0m\u001b[0;34m\u001b[0m\u001b[0m\n\u001b[1;32m     19\u001b[0m                         db[collection].update_one({\"pageId\": a[\"pageId\"]},\n",
      "\u001b[0;32m~/Рабочий стол/semantic_parser-master/start.py\u001b[0m in \u001b[0;36mstart_parser\u001b[0;34m(data)\u001b[0m\n\u001b[1;32m     13\u001b[0m     \u001b[0mconfig\u001b[0m \u001b[0;34m=\u001b[0m \u001b[0;34m'config.json'\u001b[0m\u001b[0;34m\u001b[0m\u001b[0;34m\u001b[0m\u001b[0m\n\u001b[1;32m     14\u001b[0m     \u001b[0;31m#print('Starting prediction...')\u001b[0m\u001b[0;34m\u001b[0m\u001b[0;34m\u001b[0m\u001b[0;34m\u001b[0m\u001b[0m\n\u001b[0;32m---> 15\u001b[0;31m     \u001b[0mparser\u001b[0m \u001b[0;34m=\u001b[0m \u001b[0mcreate_parser\u001b[0m\u001b[0;34m(\u001b[0m\u001b[0mconfig\u001b[0m\u001b[0;34m)\u001b[0m\u001b[0;34m\u001b[0m\u001b[0;34m\u001b[0m\u001b[0m\n\u001b[0m\u001b[1;32m     16\u001b[0m     \u001b[0mdata\u001b[0m \u001b[0;34m=\u001b[0m \u001b[0;34m[\u001b[0m\u001b[0mdata\u001b[0m\u001b[0;34m]\u001b[0m\u001b[0;34m\u001b[0m\u001b[0;34m\u001b[0m\u001b[0m\n\u001b[1;32m     17\u001b[0m     \u001b[0;31m#with open(in_file, 'r', encoding='utf-8') as f:\u001b[0m\u001b[0;34m\u001b[0m\u001b[0;34m\u001b[0m\u001b[0;34m\u001b[0m\u001b[0m\n",
      "\u001b[0;32m~/Рабочий стол/semantic_parser-master/start.py\u001b[0m in \u001b[0;36mcreate_parser\u001b[0;34m(config_file)\u001b[0m\n\u001b[1;32m      7\u001b[0m \u001b[0;34m\u001b[0m\u001b[0m\n\u001b[1;32m      8\u001b[0m \u001b[0;32mdef\u001b[0m \u001b[0mcreate_parser\u001b[0m\u001b[0;34m(\u001b[0m\u001b[0mconfig_file\u001b[0m\u001b[0;34m)\u001b[0m\u001b[0;34m:\u001b[0m\u001b[0;34m\u001b[0m\u001b[0;34m\u001b[0m\u001b[0m\n\u001b[0;32m----> 9\u001b[0;31m     \u001b[0;32mreturn\u001b[0m \u001b[0mSemanticParser\u001b[0m\u001b[0;34m(\u001b[0m\u001b[0mconfig_filename\u001b[0m\u001b[0;34m=\u001b[0m\u001b[0mconfig_file\u001b[0m\u001b[0;34m)\u001b[0m\u001b[0;34m\u001b[0m\u001b[0;34m\u001b[0m\u001b[0m\n\u001b[0m\u001b[1;32m     10\u001b[0m \u001b[0;34m\u001b[0m\u001b[0m\n\u001b[1;32m     11\u001b[0m \u001b[0;34m\u001b[0m\u001b[0m\n",
      "\u001b[0;32m~/Рабочий стол/semantic_parser-master/semantic_parser/core_parser.py\u001b[0m in \u001b[0;36m__init__\u001b[0;34m(self, config_filename)\u001b[0m\n\u001b[1;32m     22\u001b[0m         \u001b[0mself\u001b[0m\u001b[0;34m.\u001b[0m\u001b[0mpostprocessors\u001b[0m \u001b[0;34m=\u001b[0m \u001b[0;32mNone\u001b[0m\u001b[0;34m\u001b[0m\u001b[0;34m\u001b[0m\u001b[0m\n\u001b[1;32m     23\u001b[0m         \u001b[0mself\u001b[0m\u001b[0;34m.\u001b[0m\u001b[0mconfig_filename\u001b[0m \u001b[0;34m=\u001b[0m \u001b[0mconfig_filename\u001b[0m\u001b[0;34m\u001b[0m\u001b[0;34m\u001b[0m\u001b[0m\n\u001b[0;32m---> 24\u001b[0;31m         \u001b[0mself\u001b[0m\u001b[0;34m.\u001b[0m\u001b[0mload_models\u001b[0m\u001b[0;34m(\u001b[0m\u001b[0;34m)\u001b[0m\u001b[0;34m\u001b[0m\u001b[0;34m\u001b[0m\u001b[0m\n\u001b[0m\u001b[1;32m     25\u001b[0m \u001b[0;34m\u001b[0m\u001b[0m\n\u001b[1;32m     26\u001b[0m     \u001b[0;34m@\u001b[0m\u001b[0mproperty\u001b[0m\u001b[0;34m\u001b[0m\u001b[0;34m\u001b[0m\u001b[0m\n",
      "\u001b[0;32m~/Рабочий стол/semantic_parser-master/semantic_parser/core_parser.py\u001b[0m in \u001b[0;36mload_models\u001b[0;34m(self)\u001b[0m\n\u001b[1;32m     31\u001b[0m         \u001b[0;32mtry\u001b[0m\u001b[0;34m:\u001b[0m\u001b[0;34m\u001b[0m\u001b[0;34m\u001b[0m\u001b[0m\n\u001b[1;32m     32\u001b[0m             \u001b[0;32mwith\u001b[0m \u001b[0mopen\u001b[0m\u001b[0;34m(\u001b[0m\u001b[0mself\u001b[0m\u001b[0;34m.\u001b[0m\u001b[0mmodels_dir\u001b[0m\u001b[0;34m,\u001b[0m \u001b[0;34m'rb'\u001b[0m\u001b[0;34m)\u001b[0m \u001b[0;32mas\u001b[0m \u001b[0mf\u001b[0m\u001b[0;34m:\u001b[0m\u001b[0;34m\u001b[0m\u001b[0;34m\u001b[0m\u001b[0m\n\u001b[0;32m---> 33\u001b[0;31m                 \u001b[0mmodels_and_extractor\u001b[0m \u001b[0;34m=\u001b[0m \u001b[0mpickle\u001b[0m\u001b[0;34m.\u001b[0m\u001b[0mload\u001b[0m\u001b[0;34m(\u001b[0m\u001b[0mf\u001b[0m\u001b[0;34m)\u001b[0m\u001b[0;34m\u001b[0m\u001b[0;34m\u001b[0m\u001b[0m\n\u001b[0m\u001b[1;32m     34\u001b[0m             \u001b[0mself\u001b[0m\u001b[0;34m.\u001b[0m\u001b[0mmodels\u001b[0m \u001b[0;34m=\u001b[0m \u001b[0mmodels_and_extractor\u001b[0m\u001b[0;34m[\u001b[0m\u001b[0;34m'models'\u001b[0m\u001b[0;34m]\u001b[0m\u001b[0;34m\u001b[0m\u001b[0;34m\u001b[0m\u001b[0m\n\u001b[1;32m     35\u001b[0m             \u001b[0mself\u001b[0m\u001b[0;34m.\u001b[0m\u001b[0mextractor\u001b[0m \u001b[0;34m=\u001b[0m \u001b[0mmodels_and_extractor\u001b[0m\u001b[0;34m[\u001b[0m\u001b[0;34m'extractor'\u001b[0m\u001b[0;34m]\u001b[0m\u001b[0;34m\u001b[0m\u001b[0;34m\u001b[0m\u001b[0m\n",
      "\u001b[0;32m~/anaconda3/lib/python3.7/site-packages/sklearn/base.py\u001b[0m in \u001b[0;36m__setstate__\u001b[0;34m(self, state)\u001b[0m\n\u001b[1;32m    295\u001b[0m             \u001b[0;32mreturn\u001b[0m \u001b[0mstate\u001b[0m\u001b[0;34m\u001b[0m\u001b[0;34m\u001b[0m\u001b[0m\n\u001b[1;32m    296\u001b[0m \u001b[0;34m\u001b[0m\u001b[0m\n\u001b[0;32m--> 297\u001b[0;31m     \u001b[0;32mdef\u001b[0m \u001b[0m__setstate__\u001b[0m\u001b[0;34m(\u001b[0m\u001b[0mself\u001b[0m\u001b[0;34m,\u001b[0m \u001b[0mstate\u001b[0m\u001b[0;34m)\u001b[0m\u001b[0;34m:\u001b[0m\u001b[0;34m\u001b[0m\u001b[0;34m\u001b[0m\u001b[0m\n\u001b[0m\u001b[1;32m    298\u001b[0m         \u001b[0;32mif\u001b[0m \u001b[0mtype\u001b[0m\u001b[0;34m(\u001b[0m\u001b[0mself\u001b[0m\u001b[0;34m)\u001b[0m\u001b[0;34m.\u001b[0m\u001b[0m__module__\u001b[0m\u001b[0;34m.\u001b[0m\u001b[0mstartswith\u001b[0m\u001b[0;34m(\u001b[0m\u001b[0;34m'sklearn.'\u001b[0m\u001b[0;34m)\u001b[0m\u001b[0;34m:\u001b[0m\u001b[0;34m\u001b[0m\u001b[0;34m\u001b[0m\u001b[0m\n\u001b[1;32m    299\u001b[0m             \u001b[0mpickle_version\u001b[0m \u001b[0;34m=\u001b[0m \u001b[0mstate\u001b[0m\u001b[0;34m.\u001b[0m\u001b[0mpop\u001b[0m\u001b[0;34m(\u001b[0m\u001b[0;34m\"_sklearn_version\"\u001b[0m\u001b[0;34m,\u001b[0m \u001b[0;34m\"pre-0.18\"\u001b[0m\u001b[0;34m)\u001b[0m\u001b[0;34m\u001b[0m\u001b[0;34m\u001b[0m\u001b[0m\n",
      "\u001b[0;31mKeyboardInterrupt\u001b[0m: "
     ]
    }
   ],
   "source": [
    "get_urls(client, MONGO_DB)"
   ]
  },
  {
   "cell_type": "markdown",
   "metadata": {},
   "source": [
    "## Анализ результатов"
   ]
  },
  {
   "cell_type": "code",
   "execution_count": 44,
   "metadata": {},
   "outputs": [],
   "source": [
    "array_building = [0]*5\n",
    "array_storage = [0]*5\n",
    "array_garage = [0]*5\n",
    "array_psn = [0]*5\n",
    "array_tradingArea = [0]*5\n",
    "array_production = [0]*5\n",
    "array_room = [0]*5\n",
    "array_flat = [0]*5\n",
    "array_land = [0]*1\n",
    "array_flat = [0]*5\n",
    "array_office = [0]*4"
   ]
  },
  {
   "cell_type": "code",
   "execution_count": 47,
   "metadata": {},
   "outputs": [],
   "source": [
    "for a in client[MONGO_DB][\"land\"].find():    \n",
    "    if a['vat_type'] == \"unknown\":\n",
    "        array_land[0] += 1\n",
    "        \n",
    "for a in client[MONGO_DB][\"office\"].find():\n",
    "    \n",
    "    if a[\"floor_number\"] == \"unknown\":\n",
    "        array_office[0] += 1\n",
    "                        \n",
    "    if a['condition_type'] == \"unknown\":\n",
    "        array_office[1] += 1\n",
    "        \n",
    "    if a['vat_type'] == \"unknown\":\n",
    "        array_office[2] += 1\n",
    "    \n",
    "    if a[\"floor_number\"] == 999:\n",
    "        array_office[3] += 1    "
   ]
  },
  {
   "cell_type": "markdown",
   "metadata": {},
   "source": [
    "## Выгрузка в Exel"
   ]
  },
  {
   "cell_type": "code",
   "execution_count": 50,
   "metadata": {},
   "outputs": [],
   "source": [
    "tables = [\"building\", \"storage\", \"garage\", \"psn\", \"tradingArea\", \"production\", \"room\", \"flat\", \"land\", \"office\"]\n",
    "arrays = [array_building, array_storage, array_garage,array_psn, array_tradingArea,\n",
    "          array_production, array_room, array_flat, array_land, array_flat, array_office]\n",
    "file = 'fill_db.xlsx'\n",
    "work_sheet = u'Лист1'\n",
    "wb = px.load_workbook(file, data_only=True)\n",
    "sheet = wb[work_sheet]\n",
    "j=0\n",
    "for name in tables: \n",
    "    j+=1\n",
    "    sheet.cell(row = j, column = 1).value = name\n",
    "    sheet.cell(row = j, column = 3).value = str(arrays[j])\n",
    "wb.save(\"fill_db.xlsx\") "
   ]
  },
  {
   "cell_type": "code",
   "execution_count": 43,
   "metadata": {},
   "outputs": [
    {
     "name": "stderr",
     "output_type": "stream",
     "text": [
      "2019-10-11 11:31:06,030| ERROR   | Could not establish connection from ('127.0.0.1', 41603) to remote side of the tunnel\n",
      "2019-10-11 11:42:15,179| ERROR   | Socket exception: Connection timed out (110)\n"
     ]
    }
   ],
   "source": [
    "file = 'table_columns1.xlsx'\n",
    "work_sheet = u'Лист2'\n",
    "wb = px.load_workbook(file, data_only=True)\n",
    "sheet = wb[work_sheet]\n",
    "(i, j) = (0, 1)\n",
    "for collection in client[MONGO_DB].collection_names():\n",
    "    i += 1\n",
    "    sheet.cell(row = 1, column = i).value = str(collection)   \n",
    "    j = 1\n",
    "    string = client[MONGO_DB][collection].find_one()    \n",
    "    for key in string.keys():\n",
    "        j+=1\n",
    "        sheet.cell(row = j, column = i).value = str(key)\n",
    "        #print (key)\n",
    "wb.save(\"table_columns1.xlsx\") "
   ]
  },
  {
   "cell_type": "code",
   "execution_count": 9,
   "metadata": {},
   "outputs": [],
   "source": [
    "client.close()"
   ]
  },
  {
   "cell_type": "code",
   "execution_count": 10,
   "metadata": {},
   "outputs": [],
   "source": [
    "server.stop()"
   ]
  },
  {
   "cell_type": "code",
   "execution_count": 22,
   "metadata": {},
   "outputs": [
    {
     "name": "stdout",
     "output_type": "stream",
     "text": [
      "12608\n"
     ]
    }
   ],
   "source": [
    "collection = \"psn\"\n",
    "i=0\n",
    "for a in db[collection].find({\"$and\":\n",
    "                              [{\"pageId\": {\"$ne\": None}}, \n",
    "                               {\"sematic\":{\"$eq\": None}}\n",
    "                              ]\n",
    "                             }).batch_size(30): \n",
    "    i+=1\n",
    "print(i)\n"
   ]
  },
  {
   "cell_type": "code",
   "execution_count": null,
   "metadata": {},
   "outputs": [],
   "source": []
  }
 ],
 "metadata": {
  "kernelspec": {
   "display_name": "Python 3",
   "language": "python",
   "name": "python3"
  },
  "language_info": {
   "codemirror_mode": {
    "name": "ipython",
    "version": 3
   },
   "file_extension": ".py",
   "mimetype": "text/x-python",
   "name": "python",
   "nbconvert_exporter": "python",
   "pygments_lexer": "ipython3",
   "version": "3.7.3"
  }
 },
 "nbformat": 4,
 "nbformat_minor": 2
}
