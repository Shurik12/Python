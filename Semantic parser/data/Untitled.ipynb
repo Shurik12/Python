{
 "cells": [
  {
   "cell_type": "code",
   "execution_count": 1,
   "metadata": {},
   "outputs": [],
   "source": [
    "import codecs"
   ]
  },
  {
   "cell_type": "code",
   "execution_count": 2,
   "metadata": {},
   "outputs": [
    {
     "name": "stdout",
     "output_type": "stream",
     "text": [
      "6283\tunknown\tunknown\tdisplay_window\tstreet\tseparate\tfirst\tnon_residential\tunknown\tunknown\t\tПомещение свободного назначения на 1 этаже жилого дома в ЗАО с отдельным входом. Один из самых густонаселенных районов Москвы. Высокий маркетинговый потенциал. Интенсивный трафик. Возможности использования: кафе, магазин, офис, химчистка, услуги и др.Характеристика помещения:- плотный жилой массив,- интенсивный пешеходный и автомобильный трафик,- планировка: открытая,- отделка: под химчистку,- витринные окна,- высота потолков: 3 м,- общая площадь: 68 кв.м.,- отдельный вход с улицы,- круглосуточный режим работы,- эл. мощность: 15 кВт, - приточно-вытяжная вентиляция, кондиционирование,- мокрая точка сан узел.\n",
      "\n"
     ]
    }
   ],
   "source": [
    "filename = \"train.csv\"\n",
    "f = codecs.open(filename, encoding=\"utf-8\")\n",
    "s = f.readlines()[1:2][0]\n",
    "print (s)"
   ]
  },
  {
   "cell_type": "code",
   "execution_count": 3,
   "metadata": {},
   "outputs": [],
   "source": [
    "filename1 = \"train_1.csv\"\n",
    "f1 = codecs.open(filename1, mode = \"w\", encoding=\"utf-8\")\n",
    "f1.write(s)\n",
    "f1.close()"
   ]
  },
  {
   "cell_type": "code",
   "execution_count": null,
   "metadata": {},
   "outputs": [],
   "source": []
  }
 ],
 "metadata": {
  "kernelspec": {
   "display_name": "Python 3",
   "language": "python",
   "name": "python3"
  },
  "language_info": {
   "codemirror_mode": {
    "name": "ipython",
    "version": 3
   },
   "file_extension": ".py",
   "mimetype": "text/x-python",
   "name": "python",
   "nbconvert_exporter": "python",
   "pygments_lexer": "ipython3",
   "version": "3.7.3"
  }
 },
 "nbformat": 4,
 "nbformat_minor": 2
}
