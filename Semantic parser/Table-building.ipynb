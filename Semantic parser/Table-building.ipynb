{
 "cells": [
  {
   "cell_type": "markdown",
   "metadata": {},
   "source": [
    "## Библиотеки"
   ]
  },
  {
   "cell_type": "code",
   "execution_count": 6,
   "metadata": {},
   "outputs": [],
   "source": [
    "from sshtunnel import SSHTunnelForwarder\n",
    "from pymongo import MongoClient\n",
    "from start import start_parser\n",
    "import openpyxl as px # работа с  xlsx файлами\n",
    "import codecs"
   ]
  },
  {
   "cell_type": "markdown",
   "metadata": {},
   "source": [
    "## Подключение к бд"
   ]
  },
  {
   "cell_type": "code",
   "execution_count": 7,
   "metadata": {},
   "outputs": [
    {
     "name": "stdout",
     "output_type": "stream",
     "text": [
      "Connection established with local bin port:  36169\n"
     ]
    },
    {
     "name": "stderr",
     "output_type": "stream",
     "text": [
      "2019-10-18 15:58:44,167| ERROR   | Could not establish connection from ('127.0.0.1', 36169) to remote side of the tunnel\n"
     ]
    }
   ],
   "source": [
    "# Боевая бд\n",
    "\"\"\"MONGO_PORT = 55556\n",
    "MONGO_DB = \"fincase\"\n",
    "MONGO_USER = \"shesterin\"\n",
    "MONGO_PASS = \"sK349Acm9qwD92s\"\n",
    "SERVER_HOST = '192.168.0.78'\"\"\"\n",
    "\n",
    "# Тестовая бд\n",
    "MONGO_PORT = 55556\n",
    "MONGO_DB = \"fincase\"\n",
    "MONGO_USER = \"root\"\n",
    "MONGO_PASS = \"Gfcbyu&478532@#Gfhcbyu\"\n",
    "SERVER_HOST = '185.98.83.65'\n",
    "SERVER_PORT = 20032\n",
    "\n",
    "server = SSHTunnelForwarder(\n",
    "    (SERVER_HOST, SERVER_PORT),\n",
    "    ssh_username = MONGO_USER,\n",
    "    ssh_password = MONGO_PASS,\n",
    "    remote_bind_address = ('localhost', MONGO_PORT)\n",
    ")\n",
    "\n",
    "server.start()\n",
    "print(\"Connection established with local bin port: \", server.local_bind_port)\n",
    "\n",
    "db = MongoClient('localhost', server.local_bind_port)[MONGO_DB]"
   ]
  },
  {
   "cell_type": "markdown",
   "metadata": {},
   "source": [
    "## Основная функция"
   ]
  },
  {
   "cell_type": "code",
   "execution_count": 8,
   "metadata": {},
   "outputs": [],
   "source": [
    "def get_urls(db):\n",
    "    try:\n",
    "        collection_name = \"building\"\n",
    "        print (collection_name + ' start!')\n",
    "        for a in db[collection_name].find({\"$and\":\n",
    "                                                    [{\"pageId\": {\"$ne\": None}}, \n",
    "                                                     {\"sematic\":{\"$eq\": None}}]}, \n",
    "                                                     {\"building_house_line_type\": 1, \n",
    "                                                      \"condition_type\": 1, \n",
    "                                                      \"description\": 1,\n",
    "                                                      \"vat_type\" : 1, \n",
    "                                                      \"pageId\": 1}).batch_size(30):\n",
    "            data = a['description']\n",
    "            result = start_parser(data)   \n",
    "            if a['building_house_line_type'] == None:\n",
    "                db[collection_name].update_one({\"pageId\": a[\"pageId\"]},\n",
    "                                                        {\"$set\": \n",
    "                                                        {\"building_house_line_type\": result.iloc[0][\"houselinetype\"]}})\n",
    "            if a['condition_type'] == None:\n",
    "                db[collection_name].update_one({\"pageId\": a[\"pageId\"]},\n",
    "                                                        {\"$set\": \n",
    "                                                        {\"condition_type\": result.iloc[0][\"conditiontype\"]}})\n",
    "            if a['vat_type'] == None:\n",
    "                db[collection_name].update_one({\"pageId\": a[\"pageId\"]},\n",
    "                                                        {\"$set\": \n",
    "                                                        {\"vat_type\": result.iloc[0][\"vattype\"]}})           \n",
    "            db[collection_name].update_one({\"pageId\": a[\"pageId\"]},\n",
    "                                                    {\"$set\": \n",
    "                                                    {\"sematic\": \"true\"}})\n",
    "        print (collection_name + ' done!')\n",
    "        \n",
    "    except Exception as e:\n",
    "        print(e)\n",
    "\n",
    "def save_sematic_info(collection, id):\n",
    "    collection.update_one({\"pageId\": id}, {\"$set\": {\" sematic\": 'true'}})    "
   ]
  },
  {
   "cell_type": "markdown",
   "metadata": {},
   "source": [
    "## Запуск "
   ]
  },
  {
   "cell_type": "code",
   "execution_count": 10,
   "metadata": {
    "collapsed": true
   },
   "outputs": [
    {
     "name": "stdout",
     "output_type": "stream",
     "text": [
      "building start!\n"
     ]
    },
    {
     "ename": "KeyboardInterrupt",
     "evalue": "",
     "output_type": "error",
     "traceback": [
      "\u001b[0;31m---------------------------------------------------------------------------\u001b[0m",
      "\u001b[0;31mKeyboardInterrupt\u001b[0m                         Traceback (most recent call last)",
      "\u001b[0;32m<ipython-input-10-24d1e09ccf9b>\u001b[0m in \u001b[0;36m<module>\u001b[0;34m\u001b[0m\n\u001b[0;32m----> 1\u001b[0;31m \u001b[0mget_urls\u001b[0m\u001b[0;34m(\u001b[0m\u001b[0mclient\u001b[0m\u001b[0;34m,\u001b[0m \u001b[0mMONGO_DB\u001b[0m\u001b[0;34m)\u001b[0m\u001b[0;34m\u001b[0m\u001b[0;34m\u001b[0m\u001b[0m\n\u001b[0m",
      "\u001b[0;32m<ipython-input-9-81c1cf42a21f>\u001b[0m in \u001b[0;36mget_urls\u001b[0;34m(client, MONGO_DB)\u001b[0m\n\u001b[1;32m     16\u001b[0m                 client[MONGO_DB][collection_name].update_one({\"pageId\": a[\"pageId\"]},\n\u001b[1;32m     17\u001b[0m                                                         {\"$set\": \n\u001b[0;32m---> 18\u001b[0;31m                                                         {\"building_house_line_type\": result.iloc[0][\"houselinetype\"]}})\n\u001b[0m\u001b[1;32m     19\u001b[0m             \u001b[0;32mif\u001b[0m \u001b[0ma\u001b[0m\u001b[0;34m[\u001b[0m\u001b[0;34m'condition_type'\u001b[0m\u001b[0;34m]\u001b[0m \u001b[0;34m==\u001b[0m \u001b[0;32mNone\u001b[0m\u001b[0;34m:\u001b[0m\u001b[0;34m\u001b[0m\u001b[0;34m\u001b[0m\u001b[0m\n\u001b[1;32m     20\u001b[0m                 client[MONGO_DB][collection_name].update_one({\"pageId\": a[\"pageId\"]},\n",
      "\u001b[0;32m~/anaconda3/lib/python3.7/site-packages/pymongo/collection.py\u001b[0m in \u001b[0;36mupdate_one\u001b[0;34m(self, filter, update, upsert, bypass_document_validation, collation, array_filters, session)\u001b[0m\n\u001b[1;32m   1001\u001b[0m                 \u001b[0mbypass_doc_val\u001b[0m\u001b[0;34m=\u001b[0m\u001b[0mbypass_document_validation\u001b[0m\u001b[0;34m,\u001b[0m\u001b[0;34m\u001b[0m\u001b[0;34m\u001b[0m\u001b[0m\n\u001b[1;32m   1002\u001b[0m                 \u001b[0mcollation\u001b[0m\u001b[0;34m=\u001b[0m\u001b[0mcollation\u001b[0m\u001b[0;34m,\u001b[0m \u001b[0marray_filters\u001b[0m\u001b[0;34m=\u001b[0m\u001b[0marray_filters\u001b[0m\u001b[0;34m,\u001b[0m\u001b[0;34m\u001b[0m\u001b[0;34m\u001b[0m\u001b[0m\n\u001b[0;32m-> 1003\u001b[0;31m                 session=session),\n\u001b[0m\u001b[1;32m   1004\u001b[0m             write_concern.acknowledged)\n\u001b[1;32m   1005\u001b[0m \u001b[0;34m\u001b[0m\u001b[0m\n",
      "\u001b[0;32m~/anaconda3/lib/python3.7/site-packages/pymongo/collection.py\u001b[0m in \u001b[0;36m_update_retryable\u001b[0;34m(self, criteria, document, upsert, check_keys, multi, manipulate, write_concern, op_id, ordered, bypass_doc_val, collation, array_filters, session)\u001b[0m\n\u001b[1;32m    854\u001b[0m         return self.__database.client._retryable_write(\n\u001b[1;32m    855\u001b[0m             \u001b[0;34m(\u001b[0m\u001b[0mwrite_concern\u001b[0m \u001b[0;32mor\u001b[0m \u001b[0mself\u001b[0m\u001b[0;34m.\u001b[0m\u001b[0mwrite_concern\u001b[0m\u001b[0;34m)\u001b[0m\u001b[0;34m.\u001b[0m\u001b[0macknowledged\u001b[0m \u001b[0;32mand\u001b[0m \u001b[0;32mnot\u001b[0m \u001b[0mmulti\u001b[0m\u001b[0;34m,\u001b[0m\u001b[0;34m\u001b[0m\u001b[0;34m\u001b[0m\u001b[0m\n\u001b[0;32m--> 856\u001b[0;31m             _update, session)\n\u001b[0m\u001b[1;32m    857\u001b[0m \u001b[0;34m\u001b[0m\u001b[0m\n\u001b[1;32m    858\u001b[0m     def replace_one(self, filter, replacement, upsert=False,\n",
      "\u001b[0;32m~/anaconda3/lib/python3.7/site-packages/pymongo/mongo_client.py\u001b[0m in \u001b[0;36m_retryable_write\u001b[0;34m(self, retryable, func, session)\u001b[0m\n\u001b[1;32m   1490\u001b[0m         \u001b[0;34m\"\"\"Internal retryable write helper.\"\"\"\u001b[0m\u001b[0;34m\u001b[0m\u001b[0;34m\u001b[0m\u001b[0m\n\u001b[1;32m   1491\u001b[0m         \u001b[0;32mwith\u001b[0m \u001b[0mself\u001b[0m\u001b[0;34m.\u001b[0m\u001b[0m_tmp_session\u001b[0m\u001b[0;34m(\u001b[0m\u001b[0msession\u001b[0m\u001b[0;34m)\u001b[0m \u001b[0;32mas\u001b[0m \u001b[0ms\u001b[0m\u001b[0;34m:\u001b[0m\u001b[0;34m\u001b[0m\u001b[0;34m\u001b[0m\u001b[0m\n\u001b[0;32m-> 1492\u001b[0;31m             \u001b[0;32mreturn\u001b[0m \u001b[0mself\u001b[0m\u001b[0;34m.\u001b[0m\u001b[0m_retry_with_session\u001b[0m\u001b[0;34m(\u001b[0m\u001b[0mretryable\u001b[0m\u001b[0;34m,\u001b[0m \u001b[0mfunc\u001b[0m\u001b[0;34m,\u001b[0m \u001b[0ms\u001b[0m\u001b[0;34m,\u001b[0m \u001b[0;32mNone\u001b[0m\u001b[0;34m)\u001b[0m\u001b[0;34m\u001b[0m\u001b[0;34m\u001b[0m\u001b[0m\n\u001b[0m\u001b[1;32m   1493\u001b[0m \u001b[0;34m\u001b[0m\u001b[0m\n\u001b[1;32m   1494\u001b[0m     \u001b[0;32mdef\u001b[0m \u001b[0m_reset_server\u001b[0m\u001b[0;34m(\u001b[0m\u001b[0mself\u001b[0m\u001b[0;34m,\u001b[0m \u001b[0maddress\u001b[0m\u001b[0;34m)\u001b[0m\u001b[0;34m:\u001b[0m\u001b[0;34m\u001b[0m\u001b[0;34m\u001b[0m\u001b[0m\n",
      "\u001b[0;32m~/anaconda3/lib/python3.7/site-packages/pymongo/mongo_client.py\u001b[0m in \u001b[0;36m_retry_with_session\u001b[0;34m(self, retryable, func, session, bulk)\u001b[0m\n\u001b[1;32m   1383\u001b[0m                             \u001b[0;32mraise\u001b[0m \u001b[0mlast_error\u001b[0m\u001b[0;34m\u001b[0m\u001b[0;34m\u001b[0m\u001b[0m\n\u001b[1;32m   1384\u001b[0m                         \u001b[0mretryable\u001b[0m \u001b[0;34m=\u001b[0m \u001b[0;32mFalse\u001b[0m\u001b[0;34m\u001b[0m\u001b[0;34m\u001b[0m\u001b[0m\n\u001b[0;32m-> 1385\u001b[0;31m                     \u001b[0;32mreturn\u001b[0m \u001b[0mfunc\u001b[0m\u001b[0;34m(\u001b[0m\u001b[0msession\u001b[0m\u001b[0;34m,\u001b[0m \u001b[0msock_info\u001b[0m\u001b[0;34m,\u001b[0m \u001b[0mretryable\u001b[0m\u001b[0;34m)\u001b[0m\u001b[0;34m\u001b[0m\u001b[0;34m\u001b[0m\u001b[0m\n\u001b[0m\u001b[1;32m   1386\u001b[0m             \u001b[0;32mexcept\u001b[0m \u001b[0mServerSelectionTimeoutError\u001b[0m\u001b[0;34m:\u001b[0m\u001b[0;34m\u001b[0m\u001b[0;34m\u001b[0m\u001b[0m\n\u001b[1;32m   1387\u001b[0m                 \u001b[0;32mif\u001b[0m \u001b[0mis_retrying\u001b[0m\u001b[0;34m(\u001b[0m\u001b[0;34m)\u001b[0m\u001b[0;34m:\u001b[0m\u001b[0;34m\u001b[0m\u001b[0;34m\u001b[0m\u001b[0m\n",
      "\u001b[0;32m~/anaconda3/lib/python3.7/site-packages/pymongo/collection.py\u001b[0m in \u001b[0;36m_update\u001b[0;34m(session, sock_info, retryable_write)\u001b[0m\n\u001b[1;32m    850\u001b[0m                 \u001b[0mbypass_doc_val\u001b[0m\u001b[0;34m=\u001b[0m\u001b[0mbypass_doc_val\u001b[0m\u001b[0;34m,\u001b[0m \u001b[0mcollation\u001b[0m\u001b[0;34m=\u001b[0m\u001b[0mcollation\u001b[0m\u001b[0;34m,\u001b[0m\u001b[0;34m\u001b[0m\u001b[0;34m\u001b[0m\u001b[0m\n\u001b[1;32m    851\u001b[0m                 \u001b[0marray_filters\u001b[0m\u001b[0;34m=\u001b[0m\u001b[0marray_filters\u001b[0m\u001b[0;34m,\u001b[0m \u001b[0msession\u001b[0m\u001b[0;34m=\u001b[0m\u001b[0msession\u001b[0m\u001b[0;34m,\u001b[0m\u001b[0;34m\u001b[0m\u001b[0;34m\u001b[0m\u001b[0m\n\u001b[0;32m--> 852\u001b[0;31m                 retryable_write=retryable_write)\n\u001b[0m\u001b[1;32m    853\u001b[0m \u001b[0;34m\u001b[0m\u001b[0m\n\u001b[1;32m    854\u001b[0m         return self.__database.client._retryable_write(\n",
      "\u001b[0;32m~/anaconda3/lib/python3.7/site-packages/pymongo/collection.py\u001b[0m in \u001b[0;36m_update\u001b[0;34m(self, sock_info, criteria, document, upsert, check_keys, multi, manipulate, write_concern, op_id, ordered, bypass_doc_val, collation, array_filters, session, retryable_write)\u001b[0m\n\u001b[1;32m    820\u001b[0m             \u001b[0msession\u001b[0m\u001b[0;34m=\u001b[0m\u001b[0msession\u001b[0m\u001b[0;34m,\u001b[0m\u001b[0;34m\u001b[0m\u001b[0;34m\u001b[0m\u001b[0m\n\u001b[1;32m    821\u001b[0m             \u001b[0mclient\u001b[0m\u001b[0;34m=\u001b[0m\u001b[0mself\u001b[0m\u001b[0;34m.\u001b[0m\u001b[0m__database\u001b[0m\u001b[0;34m.\u001b[0m\u001b[0mclient\u001b[0m\u001b[0;34m,\u001b[0m\u001b[0;34m\u001b[0m\u001b[0;34m\u001b[0m\u001b[0m\n\u001b[0;32m--> 822\u001b[0;31m             retryable_write=retryable_write).copy()\n\u001b[0m\u001b[1;32m    823\u001b[0m         \u001b[0m_check_write_command_response\u001b[0m\u001b[0;34m(\u001b[0m\u001b[0mresult\u001b[0m\u001b[0;34m)\u001b[0m\u001b[0;34m\u001b[0m\u001b[0;34m\u001b[0m\u001b[0m\n\u001b[1;32m    824\u001b[0m         \u001b[0;31m# Add the updatedExisting field for compatibility.\u001b[0m\u001b[0;34m\u001b[0m\u001b[0;34m\u001b[0m\u001b[0;34m\u001b[0m\u001b[0m\n",
      "\u001b[0;32m~/anaconda3/lib/python3.7/site-packages/pymongo/pool.py\u001b[0m in \u001b[0;36mcommand\u001b[0;34m(self, dbname, spec, slave_ok, read_preference, codec_options, check, allowable_errors, check_keys, read_concern, write_concern, parse_write_concern_error, collation, session, client, retryable_write, publish_events, user_fields)\u001b[0m\n\u001b[1;32m    616\u001b[0m         \u001b[0;31m# Catch socket.error, KeyboardInterrupt, etc. and close ourselves.\u001b[0m\u001b[0;34m\u001b[0m\u001b[0;34m\u001b[0m\u001b[0;34m\u001b[0m\u001b[0m\n\u001b[1;32m    617\u001b[0m         \u001b[0;32mexcept\u001b[0m \u001b[0mBaseException\u001b[0m \u001b[0;32mas\u001b[0m \u001b[0merror\u001b[0m\u001b[0;34m:\u001b[0m\u001b[0;34m\u001b[0m\u001b[0;34m\u001b[0m\u001b[0m\n\u001b[0;32m--> 618\u001b[0;31m             \u001b[0mself\u001b[0m\u001b[0;34m.\u001b[0m\u001b[0m_raise_connection_failure\u001b[0m\u001b[0;34m(\u001b[0m\u001b[0merror\u001b[0m\u001b[0;34m)\u001b[0m\u001b[0;34m\u001b[0m\u001b[0;34m\u001b[0m\u001b[0m\n\u001b[0m\u001b[1;32m    619\u001b[0m \u001b[0;34m\u001b[0m\u001b[0m\n\u001b[1;32m    620\u001b[0m     \u001b[0;32mdef\u001b[0m \u001b[0msend_message\u001b[0m\u001b[0;34m(\u001b[0m\u001b[0mself\u001b[0m\u001b[0;34m,\u001b[0m \u001b[0mmessage\u001b[0m\u001b[0;34m,\u001b[0m \u001b[0mmax_doc_size\u001b[0m\u001b[0;34m)\u001b[0m\u001b[0;34m:\u001b[0m\u001b[0;34m\u001b[0m\u001b[0;34m\u001b[0m\u001b[0m\n",
      "\u001b[0;32m~/anaconda3/lib/python3.7/site-packages/pymongo/pool.py\u001b[0m in \u001b[0;36mcommand\u001b[0;34m(self, dbname, spec, slave_ok, read_preference, codec_options, check, allowable_errors, check_keys, read_concern, write_concern, parse_write_concern_error, collation, session, client, retryable_write, publish_events, user_fields)\u001b[0m\n\u001b[1;32m    611\u001b[0m                            \u001b[0muse_op_msg\u001b[0m\u001b[0;34m=\u001b[0m\u001b[0mself\u001b[0m\u001b[0;34m.\u001b[0m\u001b[0mop_msg_enabled\u001b[0m\u001b[0;34m,\u001b[0m\u001b[0;34m\u001b[0m\u001b[0;34m\u001b[0m\u001b[0m\n\u001b[1;32m    612\u001b[0m                            \u001b[0munacknowledged\u001b[0m\u001b[0;34m=\u001b[0m\u001b[0munacknowledged\u001b[0m\u001b[0;34m,\u001b[0m\u001b[0;34m\u001b[0m\u001b[0;34m\u001b[0m\u001b[0m\n\u001b[0;32m--> 613\u001b[0;31m                            user_fields=user_fields)\n\u001b[0m\u001b[1;32m    614\u001b[0m         \u001b[0;32mexcept\u001b[0m \u001b[0mOperationFailure\u001b[0m\u001b[0;34m:\u001b[0m\u001b[0;34m\u001b[0m\u001b[0;34m\u001b[0m\u001b[0m\n\u001b[1;32m    615\u001b[0m             \u001b[0;32mraise\u001b[0m\u001b[0;34m\u001b[0m\u001b[0;34m\u001b[0m\u001b[0m\n",
      "\u001b[0;32m~/anaconda3/lib/python3.7/site-packages/pymongo/network.py\u001b[0m in \u001b[0;36mcommand\u001b[0;34m(sock, dbname, spec, slave_ok, is_mongos, read_preference, codec_options, session, client, check, allowable_errors, address, check_keys, listeners, max_bson_size, read_concern, parse_write_concern_error, collation, compression_ctx, use_op_msg, unacknowledged, user_fields)\u001b[0m\n\u001b[1;32m    155\u001b[0m             \u001b[0mresponse_doc\u001b[0m \u001b[0;34m=\u001b[0m \u001b[0;34m{\u001b[0m\u001b[0;34m\"ok\"\u001b[0m\u001b[0;34m:\u001b[0m \u001b[0;36m1\u001b[0m\u001b[0;34m}\u001b[0m\u001b[0;34m\u001b[0m\u001b[0;34m\u001b[0m\u001b[0m\n\u001b[1;32m    156\u001b[0m         \u001b[0;32melse\u001b[0m\u001b[0;34m:\u001b[0m\u001b[0;34m\u001b[0m\u001b[0;34m\u001b[0m\u001b[0m\n\u001b[0;32m--> 157\u001b[0;31m             \u001b[0mreply\u001b[0m \u001b[0;34m=\u001b[0m \u001b[0mreceive_message\u001b[0m\u001b[0;34m(\u001b[0m\u001b[0msock\u001b[0m\u001b[0;34m,\u001b[0m \u001b[0mrequest_id\u001b[0m\u001b[0;34m)\u001b[0m\u001b[0;34m\u001b[0m\u001b[0;34m\u001b[0m\u001b[0m\n\u001b[0m\u001b[1;32m    158\u001b[0m             unpacked_docs = reply.unpack_response(\n\u001b[1;32m    159\u001b[0m                 codec_options=codec_options, user_fields=user_fields)\n",
      "\u001b[0;32m~/anaconda3/lib/python3.7/site-packages/pymongo/network.py\u001b[0m in \u001b[0;36mreceive_message\u001b[0;34m(sock, request_id, max_message_size)\u001b[0m\n\u001b[1;32m    194\u001b[0m     \u001b[0;31m# Ignore the response's request id.\u001b[0m\u001b[0;34m\u001b[0m\u001b[0;34m\u001b[0m\u001b[0;34m\u001b[0m\u001b[0m\n\u001b[1;32m    195\u001b[0m     length, _, response_to, op_code = _UNPACK_HEADER(\n\u001b[0;32m--> 196\u001b[0;31m         _receive_data_on_socket(sock, 16))\n\u001b[0m\u001b[1;32m    197\u001b[0m     \u001b[0;31m# No request_id for exhaust cursor \"getMore\".\u001b[0m\u001b[0;34m\u001b[0m\u001b[0;34m\u001b[0m\u001b[0;34m\u001b[0m\u001b[0m\n\u001b[1;32m    198\u001b[0m     \u001b[0;32mif\u001b[0m \u001b[0mrequest_id\u001b[0m \u001b[0;32mis\u001b[0m \u001b[0;32mnot\u001b[0m \u001b[0;32mNone\u001b[0m\u001b[0;34m:\u001b[0m\u001b[0;34m\u001b[0m\u001b[0;34m\u001b[0m\u001b[0m\n",
      "\u001b[0;32m~/anaconda3/lib/python3.7/site-packages/pymongo/network.py\u001b[0m in \u001b[0;36m_receive_data_on_socket\u001b[0;34m(sock, length)\u001b[0m\n\u001b[1;32m    253\u001b[0m         \u001b[0;32mwhile\u001b[0m \u001b[0mbytes_read\u001b[0m \u001b[0;34m<\u001b[0m \u001b[0mlength\u001b[0m\u001b[0;34m:\u001b[0m\u001b[0;34m\u001b[0m\u001b[0;34m\u001b[0m\u001b[0m\n\u001b[1;32m    254\u001b[0m             \u001b[0;32mtry\u001b[0m\u001b[0;34m:\u001b[0m\u001b[0;34m\u001b[0m\u001b[0;34m\u001b[0m\u001b[0m\n\u001b[0;32m--> 255\u001b[0;31m                 \u001b[0mchunk_length\u001b[0m \u001b[0;34m=\u001b[0m \u001b[0msock\u001b[0m\u001b[0;34m.\u001b[0m\u001b[0mrecv_into\u001b[0m\u001b[0;34m(\u001b[0m\u001b[0mmv\u001b[0m\u001b[0;34m[\u001b[0m\u001b[0mbytes_read\u001b[0m\u001b[0;34m:\u001b[0m\u001b[0;34m]\u001b[0m\u001b[0;34m)\u001b[0m\u001b[0;34m\u001b[0m\u001b[0;34m\u001b[0m\u001b[0m\n\u001b[0m\u001b[1;32m    256\u001b[0m             \u001b[0;32mexcept\u001b[0m \u001b[0;34m(\u001b[0m\u001b[0mIOError\u001b[0m\u001b[0;34m,\u001b[0m \u001b[0mOSError\u001b[0m\u001b[0;34m)\u001b[0m \u001b[0;32mas\u001b[0m \u001b[0mexc\u001b[0m\u001b[0;34m:\u001b[0m\u001b[0;34m\u001b[0m\u001b[0;34m\u001b[0m\u001b[0m\n\u001b[1;32m    257\u001b[0m                 \u001b[0;32mif\u001b[0m \u001b[0m_errno_from_exception\u001b[0m\u001b[0;34m(\u001b[0m\u001b[0mexc\u001b[0m\u001b[0;34m)\u001b[0m \u001b[0;34m==\u001b[0m \u001b[0merrno\u001b[0m\u001b[0;34m.\u001b[0m\u001b[0mEINTR\u001b[0m\u001b[0;34m:\u001b[0m\u001b[0;34m\u001b[0m\u001b[0;34m\u001b[0m\u001b[0m\n",
      "\u001b[0;31mKeyboardInterrupt\u001b[0m: "
     ]
    }
   ],
   "source": [
    "get_urls(db)"
   ]
  },
  {
   "cell_type": "code",
   "execution_count": 9,
   "metadata": {},
   "outputs": [
    {
     "name": "stdout",
     "output_type": "stream",
     "text": [
      "21623\n",
      "Table buildings:[0, 0, 0]\n"
     ]
    }
   ],
   "source": [
    "array_building = [0]*3\n",
    "i=0\n",
    "for a in db[\"building\"].find():\n",
    "    \n",
    "    i+=1\n",
    "    \n",
    "    if a[\"building_house_line_type\"] == None:\n",
    "        array_building[0] += 1\n",
    "                        \n",
    "    if a['condition_type'] == None:\n",
    "        array_building[1] += 1\n",
    "        \n",
    "    if a['vat_type'] == None:\n",
    "        array_building[2] += 1\n",
    "print(i)\n",
    "\n",
    "print (\"Table buildings:\" + str(array_building))"
   ]
  },
  {
   "cell_type": "markdown",
   "metadata": {},
   "source": [
    "## Выгружаем данные в csv формат"
   ]
  },
  {
   "cell_type": "code",
   "execution_count": 10,
   "metadata": {},
   "outputs": [],
   "source": [
    "request = db[\"building\"].find({\"$and\":\n",
    "                                            [{\"pageId\": {\"$ne\": None}}, \n",
    "                                             {\"sematic\":{\"$eq\": \"true\"}}]}, \n",
    "                                             {\"building_house_line_type\": 1, \n",
    "                                              \"condition_type\": 1, \n",
    "                                              \"description\": 1,\n",
    "                                              \"vat_type\" : 1, \n",
    "                                              \"pageId\": 1}).batch_size(30)\n",
    "with codecs.open(\"building_mongo.csv\", mode='w', encoding='utf-8') as f:\n",
    "    f.flush()\n",
    "    j = 0\n",
    "    keys = []\n",
    "    for line in request:\n",
    "        j += 1\n",
    "        if j == 1:\n",
    "            keys = line.keys()\n",
    "            f.write(\"\\t\".join(str(i) for i in keys))\n",
    "            f.write(\"\\n\")\n",
    "        if j % 10 == 0:\n",
    "            for k in keys:\n",
    "                f.write(str(line[k]).strip().replace(\"\\n\", \" \"))\n",
    "                f.write(\"\\t\")\n",
    "            f.write(\"\\n\")\n",
    "    f.flush()"
   ]
  },
  {
   "cell_type": "code",
   "execution_count": 37,
   "metadata": {
    "collapsed": true
   },
   "outputs": [
    {
     "name": "stderr",
     "output_type": "stream",
     "text": [
      "2019-10-16 18:14:56,179| ERROR   | Could not establish connection from ('127.0.0.1', 45371) to remote side of the tunnel\n",
      "2019-10-16 18:14:56,184| ERROR   | Could not establish connection from ('127.0.0.1', 45653) to remote side of the tunnel\n",
      "2019-10-16 18:15:06,194| ERROR   | Could not establish connection from ('127.0.0.1', 45371) to remote side of the tunnel\n",
      "2019-10-16 18:15:06,199| ERROR   | Could not establish connection from ('127.0.0.1', 45653) to remote side of the tunnel\n",
      "2019-10-16 18:15:16,260| ERROR   | Could not establish connection from ('127.0.0.1', 45653) to remote side of the tunnel\n",
      "2019-10-16 18:15:26,282| ERROR   | Could not establish connection from ('127.0.0.1', 45653) to remote side of the tunnel\n",
      "2019-10-16 18:15:36,299| ERROR   | Could not establish connection from ('127.0.0.1', 45653) to remote side of the tunnel\n",
      "2019-10-16 18:15:46,317| ERROR   | Could not establish connection from ('127.0.0.1', 45653) to remote side of the tunnel\n",
      "2019-10-16 18:15:56,339| ERROR   | Could not establish connection from ('127.0.0.1', 45653) to remote side of the tunnel\n",
      "2019-10-16 18:16:06,366| ERROR   | Could not establish connection from ('127.0.0.1', 45653) to remote side of the tunnel\n",
      "2019-10-16 18:16:16,381| ERROR   | Could not establish connection from ('127.0.0.1', 45653) to remote side of the tunnel\n",
      "2019-10-16 18:16:26,398| ERROR   | Could not establish connection from ('127.0.0.1', 45653) to remote side of the tunnel\n",
      "2019-10-16 18:16:36,415| ERROR   | Could not establish connection from ('127.0.0.1', 45653) to remote side of the tunnel\n",
      "2019-10-16 18:16:46,436| ERROR   | Could not establish connection from ('127.0.0.1', 45653) to remote side of the tunnel\n",
      "2019-10-16 18:16:56,454| ERROR   | Could not establish connection from ('127.0.0.1', 45653) to remote side of the tunnel\n",
      "2019-10-16 18:17:06,471| ERROR   | Could not establish connection from ('127.0.0.1', 45653) to remote side of the tunnel\n",
      "2019-10-16 18:17:16,488| ERROR   | Could not establish connection from ('127.0.0.1', 45653) to remote side of the tunnel\n",
      "2019-10-16 18:17:26,505| ERROR   | Could not establish connection from ('127.0.0.1', 45653) to remote side of the tunnel\n",
      "2019-10-16 18:17:36,522| ERROR   | Could not establish connection from ('127.0.0.1', 45653) to remote side of the tunnel\n",
      "2019-10-16 18:17:46,539| ERROR   | Could not establish connection from ('127.0.0.1', 45653) to remote side of the tunnel\n",
      "2019-10-16 18:17:56,554| ERROR   | Could not establish connection from ('127.0.0.1', 45653) to remote side of the tunnel\n",
      "2019-10-16 18:18:06,568| ERROR   | Could not establish connection from ('127.0.0.1', 45653) to remote side of the tunnel\n",
      "2019-10-16 18:18:16,585| ERROR   | Could not establish connection from ('127.0.0.1', 45653) to remote side of the tunnel\n",
      "2019-10-16 18:18:26,603| ERROR   | Could not establish connection from ('127.0.0.1', 45653) to remote side of the tunnel\n",
      "2019-10-16 18:18:36,618| ERROR   | Could not establish connection from ('127.0.0.1', 45653) to remote side of the tunnel\n",
      "2019-10-16 18:18:46,634| ERROR   | Could not establish connection from ('127.0.0.1', 45653) to remote side of the tunnel\n",
      "2019-10-16 18:18:56,651| ERROR   | Could not establish connection from ('127.0.0.1', 45653) to remote side of the tunnel\n",
      "2019-10-16 18:19:06,668| ERROR   | Could not establish connection from ('127.0.0.1', 45653) to remote side of the tunnel\n",
      "2019-10-16 18:19:16,682| ERROR   | Could not establish connection from ('127.0.0.1', 45653) to remote side of the tunnel\n",
      "2019-10-16 18:19:26,699| ERROR   | Could not establish connection from ('127.0.0.1', 45653) to remote side of the tunnel\n",
      "2019-10-16 18:19:36,714| ERROR   | Could not establish connection from ('127.0.0.1', 45653) to remote side of the tunnel\n",
      "2019-10-16 18:19:46,733| ERROR   | Could not establish connection from ('127.0.0.1', 45653) to remote side of the tunnel\n",
      "2019-10-16 18:19:56,750| ERROR   | Could not establish connection from ('127.0.0.1', 45653) to remote side of the tunnel\n",
      "2019-10-16 18:20:06,770| ERROR   | Could not establish connection from ('127.0.0.1', 45653) to remote side of the tunnel\n",
      "2019-10-16 18:20:16,788| ERROR   | Could not establish connection from ('127.0.0.1', 45653) to remote side of the tunnel\n",
      "2019-10-16 18:20:26,805| ERROR   | Could not establish connection from ('127.0.0.1', 45653) to remote side of the tunnel\n",
      "2019-10-16 18:20:36,822| ERROR   | Could not establish connection from ('127.0.0.1', 45653) to remote side of the tunnel\n",
      "2019-10-16 18:20:46,836| ERROR   | Could not establish connection from ('127.0.0.1', 45653) to remote side of the tunnel\n",
      "2019-10-16 18:20:56,850| ERROR   | Could not establish connection from ('127.0.0.1', 45653) to remote side of the tunnel\n",
      "2019-10-16 18:21:06,866| ERROR   | Could not establish connection from ('127.0.0.1', 45653) to remote side of the tunnel\n",
      "2019-10-16 18:21:16,882| ERROR   | Could not establish connection from ('127.0.0.1', 45653) to remote side of the tunnel\n",
      "2019-10-16 18:21:26,899| ERROR   | Could not establish connection from ('127.0.0.1', 45653) to remote side of the tunnel\n",
      "2019-10-16 18:21:36,916| ERROR   | Could not establish connection from ('127.0.0.1', 45653) to remote side of the tunnel\n",
      "2019-10-16 18:21:46,934| ERROR   | Could not establish connection from ('127.0.0.1', 45653) to remote side of the tunnel\n",
      "2019-10-16 18:21:56,949| ERROR   | Could not establish connection from ('127.0.0.1', 45653) to remote side of the tunnel\n",
      "2019-10-16 18:22:06,966| ERROR   | Could not establish connection from ('127.0.0.1', 45653) to remote side of the tunnel\n",
      "2019-10-16 18:22:16,981| ERROR   | Could not establish connection from ('127.0.0.1', 45653) to remote side of the tunnel\n",
      "2019-10-16 18:22:26,998| ERROR   | Could not establish connection from ('127.0.0.1', 45653) to remote side of the tunnel\n",
      "2019-10-16 18:22:37,018| ERROR   | Could not establish connection from ('127.0.0.1', 45653) to remote side of the tunnel\n",
      "2019-10-16 18:22:47,036| ERROR   | Could not establish connection from ('127.0.0.1', 45653) to remote side of the tunnel\n",
      "2019-10-16 18:22:57,056| ERROR   | Could not establish connection from ('127.0.0.1', 45653) to remote side of the tunnel\n",
      "2019-10-16 18:23:07,072| ERROR   | Could not establish connection from ('127.0.0.1', 45653) to remote side of the tunnel\n",
      "2019-10-16 18:23:17,089| ERROR   | Could not establish connection from ('127.0.0.1', 45653) to remote side of the tunnel\n",
      "2019-10-16 18:23:27,104| ERROR   | Could not establish connection from ('127.0.0.1', 45653) to remote side of the tunnel\n",
      "2019-10-16 18:23:37,118| ERROR   | Could not establish connection from ('127.0.0.1', 45653) to remote side of the tunnel\n",
      "2019-10-16 18:23:47,131| ERROR   | Could not establish connection from ('127.0.0.1', 45653) to remote side of the tunnel\n",
      "2019-10-16 18:23:57,145| ERROR   | Could not establish connection from ('127.0.0.1', 45653) to remote side of the tunnel\n",
      "2019-10-16 18:24:07,159| ERROR   | Could not establish connection from ('127.0.0.1', 45653) to remote side of the tunnel\n",
      "2019-10-16 18:24:17,175| ERROR   | Could not establish connection from ('127.0.0.1', 45653) to remote side of the tunnel\n",
      "2019-10-16 18:24:27,191| ERROR   | Could not establish connection from ('127.0.0.1', 45653) to remote side of the tunnel\n",
      "2019-10-16 18:24:37,207| ERROR   | Could not establish connection from ('127.0.0.1', 45653) to remote side of the tunnel\n",
      "2019-10-16 18:24:47,225| ERROR   | Could not establish connection from ('127.0.0.1', 45653) to remote side of the tunnel\n",
      "2019-10-16 18:24:57,242| ERROR   | Could not establish connection from ('127.0.0.1', 45653) to remote side of the tunnel\n",
      "2019-10-16 18:25:07,257| ERROR   | Could not establish connection from ('127.0.0.1', 45653) to remote side of the tunnel\n",
      "2019-10-16 18:25:17,275| ERROR   | Could not establish connection from ('127.0.0.1', 45653) to remote side of the tunnel\n",
      "2019-10-16 18:25:27,291| ERROR   | Could not establish connection from ('127.0.0.1', 45653) to remote side of the tunnel\n",
      "2019-10-16 18:25:37,309| ERROR   | Could not establish connection from ('127.0.0.1', 45653) to remote side of the tunnel\n",
      "2019-10-16 18:25:47,325| ERROR   | Could not establish connection from ('127.0.0.1', 45653) to remote side of the tunnel\n"
     ]
    },
    {
     "name": "stderr",
     "output_type": "stream",
     "text": [
      "2019-10-16 18:25:57,341| ERROR   | Could not establish connection from ('127.0.0.1', 45653) to remote side of the tunnel\n",
      "2019-10-16 18:26:07,358| ERROR   | Could not establish connection from ('127.0.0.1', 45653) to remote side of the tunnel\n",
      "2019-10-16 18:26:17,375| ERROR   | Could not establish connection from ('127.0.0.1', 45653) to remote side of the tunnel\n",
      "2019-10-16 18:26:27,390| ERROR   | Could not establish connection from ('127.0.0.1', 45653) to remote side of the tunnel\n",
      "2019-10-16 18:26:37,406| ERROR   | Could not establish connection from ('127.0.0.1', 45653) to remote side of the tunnel\n",
      "2019-10-16 18:26:47,423| ERROR   | Could not establish connection from ('127.0.0.1', 45653) to remote side of the tunnel\n",
      "2019-10-16 18:26:57,439| ERROR   | Could not establish connection from ('127.0.0.1', 45653) to remote side of the tunnel\n",
      "2019-10-16 18:27:07,458| ERROR   | Could not establish connection from ('127.0.0.1', 45653) to remote side of the tunnel\n",
      "2019-10-16 18:27:17,475| ERROR   | Could not establish connection from ('127.0.0.1', 45653) to remote side of the tunnel\n",
      "2019-10-16 18:27:27,492| ERROR   | Could not establish connection from ('127.0.0.1', 45653) to remote side of the tunnel\n",
      "2019-10-16 18:27:37,512| ERROR   | Could not establish connection from ('127.0.0.1', 45653) to remote side of the tunnel\n",
      "2019-10-16 18:27:47,527| ERROR   | Could not establish connection from ('127.0.0.1', 45653) to remote side of the tunnel\n",
      "2019-10-16 18:27:57,546| ERROR   | Could not establish connection from ('127.0.0.1', 45653) to remote side of the tunnel\n",
      "2019-10-16 18:28:07,561| ERROR   | Could not establish connection from ('127.0.0.1', 45653) to remote side of the tunnel\n",
      "2019-10-16 18:28:17,577| ERROR   | Could not establish connection from ('127.0.0.1', 45653) to remote side of the tunnel\n",
      "2019-10-16 18:28:27,592| ERROR   | Could not establish connection from ('127.0.0.1', 45653) to remote side of the tunnel\n",
      "2019-10-16 18:28:37,607| ERROR   | Could not establish connection from ('127.0.0.1', 45653) to remote side of the tunnel\n",
      "2019-10-16 18:28:47,621| ERROR   | Could not establish connection from ('127.0.0.1', 45653) to remote side of the tunnel\n",
      "2019-10-16 18:28:57,635| ERROR   | Could not establish connection from ('127.0.0.1', 45653) to remote side of the tunnel\n",
      "2019-10-16 18:29:07,650| ERROR   | Could not establish connection from ('127.0.0.1', 45653) to remote side of the tunnel\n",
      "2019-10-16 18:29:17,663| ERROR   | Could not establish connection from ('127.0.0.1', 45653) to remote side of the tunnel\n",
      "2019-10-16 18:29:27,676| ERROR   | Could not establish connection from ('127.0.0.1', 45653) to remote side of the tunnel\n",
      "2019-10-16 18:29:37,690| ERROR   | Could not establish connection from ('127.0.0.1', 45653) to remote side of the tunnel\n",
      "2019-10-16 18:29:47,706| ERROR   | Could not establish connection from ('127.0.0.1', 45653) to remote side of the tunnel\n",
      "2019-10-16 18:29:57,723| ERROR   | Could not establish connection from ('127.0.0.1', 45653) to remote side of the tunnel\n",
      "2019-10-16 18:30:07,743| ERROR   | Could not establish connection from ('127.0.0.1', 45653) to remote side of the tunnel\n",
      "2019-10-16 18:30:17,760| ERROR   | Could not establish connection from ('127.0.0.1', 45653) to remote side of the tunnel\n",
      "2019-10-16 18:30:27,778| ERROR   | Could not establish connection from ('127.0.0.1', 45653) to remote side of the tunnel\n",
      "2019-10-16 18:30:37,793| ERROR   | Could not establish connection from ('127.0.0.1', 45653) to remote side of the tunnel\n",
      "2019-10-16 18:30:47,808| ERROR   | Could not establish connection from ('127.0.0.1', 45653) to remote side of the tunnel\n",
      "2019-10-16 18:30:57,826| ERROR   | Could not establish connection from ('127.0.0.1', 45653) to remote side of the tunnel\n",
      "2019-10-16 18:31:07,842| ERROR   | Could not establish connection from ('127.0.0.1', 45653) to remote side of the tunnel\n",
      "2019-10-16 18:31:17,858| ERROR   | Could not establish connection from ('127.0.0.1', 45653) to remote side of the tunnel\n",
      "2019-10-16 18:31:27,875| ERROR   | Could not establish connection from ('127.0.0.1', 45653) to remote side of the tunnel\n",
      "2019-10-16 18:31:37,891| ERROR   | Could not establish connection from ('127.0.0.1', 45653) to remote side of the tunnel\n",
      "2019-10-16 18:31:47,907| ERROR   | Could not establish connection from ('127.0.0.1', 45653) to remote side of the tunnel\n",
      "2019-10-16 18:31:57,926| ERROR   | Could not establish connection from ('127.0.0.1', 45653) to remote side of the tunnel\n",
      "2019-10-16 18:32:07,942| ERROR   | Could not establish connection from ('127.0.0.1', 45653) to remote side of the tunnel\n",
      "2019-10-16 18:32:17,961| ERROR   | Could not establish connection from ('127.0.0.1', 45653) to remote side of the tunnel\n",
      "2019-10-16 18:32:27,979| ERROR   | Could not establish connection from ('127.0.0.1', 45653) to remote side of the tunnel\n",
      "2019-10-16 18:32:37,994| ERROR   | Could not establish connection from ('127.0.0.1', 45653) to remote side of the tunnel\n",
      "2019-10-16 18:32:48,014| ERROR   | Could not establish connection from ('127.0.0.1', 45653) to remote side of the tunnel\n",
      "2019-10-16 18:32:58,030| ERROR   | Could not establish connection from ('127.0.0.1', 45653) to remote side of the tunnel\n",
      "2019-10-16 18:33:08,046| ERROR   | Could not establish connection from ('127.0.0.1', 45653) to remote side of the tunnel\n",
      "2019-10-16 18:33:18,062| ERROR   | Could not establish connection from ('127.0.0.1', 45653) to remote side of the tunnel\n",
      "2019-10-16 18:33:28,076| ERROR   | Could not establish connection from ('127.0.0.1', 45653) to remote side of the tunnel\n",
      "2019-10-16 18:33:38,091| ERROR   | Could not establish connection from ('127.0.0.1', 45653) to remote side of the tunnel\n",
      "2019-10-16 18:33:48,103| ERROR   | Could not establish connection from ('127.0.0.1', 45653) to remote side of the tunnel\n",
      "2019-10-16 18:33:58,118| ERROR   | Could not establish connection from ('127.0.0.1', 45653) to remote side of the tunnel\n",
      "2019-10-16 18:34:08,133| ERROR   | Could not establish connection from ('127.0.0.1', 45653) to remote side of the tunnel\n",
      "2019-10-16 18:34:18,150| ERROR   | Could not establish connection from ('127.0.0.1', 45653) to remote side of the tunnel\n",
      "2019-10-16 18:34:28,169| ERROR   | Could not establish connection from ('127.0.0.1', 45653) to remote side of the tunnel\n",
      "2019-10-16 18:34:38,187| ERROR   | Could not establish connection from ('127.0.0.1', 45653) to remote side of the tunnel\n",
      "2019-10-16 18:34:48,201| ERROR   | Could not establish connection from ('127.0.0.1', 45653) to remote side of the tunnel\n",
      "2019-10-16 18:34:58,217| ERROR   | Could not establish connection from ('127.0.0.1', 45653) to remote side of the tunnel\n",
      "2019-10-16 18:35:08,233| ERROR   | Could not establish connection from ('127.0.0.1', 45653) to remote side of the tunnel\n",
      "2019-10-16 18:35:18,253| ERROR   | Could not establish connection from ('127.0.0.1', 45653) to remote side of the tunnel\n",
      "2019-10-16 18:35:28,270| ERROR   | Could not establish connection from ('127.0.0.1', 45653) to remote side of the tunnel\n",
      "2019-10-16 18:35:38,286| ERROR   | Could not establish connection from ('127.0.0.1', 45653) to remote side of the tunnel\n",
      "2019-10-16 18:35:48,302| ERROR   | Could not establish connection from ('127.0.0.1', 45653) to remote side of the tunnel\n",
      "2019-10-16 18:35:58,317| ERROR   | Could not establish connection from ('127.0.0.1', 45653) to remote side of the tunnel\n",
      "2019-10-16 18:36:08,333| ERROR   | Could not establish connection from ('127.0.0.1', 45653) to remote side of the tunnel\n",
      "2019-10-16 18:36:18,350| ERROR   | Could not establish connection from ('127.0.0.1', 45653) to remote side of the tunnel\n",
      "2019-10-16 18:36:28,367| ERROR   | Could not establish connection from ('127.0.0.1', 45653) to remote side of the tunnel\n",
      "2019-10-16 18:36:38,384| ERROR   | Could not establish connection from ('127.0.0.1', 45653) to remote side of the tunnel\n",
      "2019-10-16 18:36:48,401| ERROR   | Could not establish connection from ('127.0.0.1', 45653) to remote side of the tunnel\n",
      "2019-10-16 18:36:58,418| ERROR   | Could not establish connection from ('127.0.0.1', 45653) to remote side of the tunnel\n",
      "2019-10-16 18:37:08,438| ERROR   | Could not establish connection from ('127.0.0.1', 45653) to remote side of the tunnel\n"
     ]
    },
    {
     "name": "stderr",
     "output_type": "stream",
     "text": [
      "2019-10-16 18:37:18,454| ERROR   | Could not establish connection from ('127.0.0.1', 45653) to remote side of the tunnel\n",
      "2019-10-16 18:37:28,472| ERROR   | Could not establish connection from ('127.0.0.1', 45653) to remote side of the tunnel\n",
      "2019-10-16 18:37:38,489| ERROR   | Could not establish connection from ('127.0.0.1', 45653) to remote side of the tunnel\n",
      "2019-10-16 18:37:48,506| ERROR   | Could not establish connection from ('127.0.0.1', 45653) to remote side of the tunnel\n",
      "2019-10-16 18:37:58,522| ERROR   | Could not establish connection from ('127.0.0.1', 45653) to remote side of the tunnel\n",
      "2019-10-16 18:38:08,539| ERROR   | Could not establish connection from ('127.0.0.1', 45653) to remote side of the tunnel\n",
      "2019-10-16 18:38:18,556| ERROR   | Could not establish connection from ('127.0.0.1', 45653) to remote side of the tunnel\n",
      "2019-10-16 18:38:28,573| ERROR   | Could not establish connection from ('127.0.0.1', 45653) to remote side of the tunnel\n",
      "2019-10-16 18:38:38,592| ERROR   | Could not establish connection from ('127.0.0.1', 45653) to remote side of the tunnel\n",
      "2019-10-16 18:38:48,609| ERROR   | Could not establish connection from ('127.0.0.1', 45653) to remote side of the tunnel\n",
      "2019-10-16 18:38:58,626| ERROR   | Could not establish connection from ('127.0.0.1', 45653) to remote side of the tunnel\n",
      "2019-10-16 18:39:08,641| ERROR   | Could not establish connection from ('127.0.0.1', 45653) to remote side of the tunnel\n",
      "2019-10-16 18:39:18,658| ERROR   | Could not establish connection from ('127.0.0.1', 45653) to remote side of the tunnel\n",
      "2019-10-16 18:39:28,674| ERROR   | Could not establish connection from ('127.0.0.1', 45653) to remote side of the tunnel\n",
      "2019-10-16 18:39:38,690| ERROR   | Could not establish connection from ('127.0.0.1', 45653) to remote side of the tunnel\n",
      "2019-10-16 18:39:48,705| ERROR   | Could not establish connection from ('127.0.0.1', 45653) to remote side of the tunnel\n",
      "2019-10-16 18:39:58,722| ERROR   | Could not establish connection from ('127.0.0.1', 45653) to remote side of the tunnel\n",
      "2019-10-16 18:40:08,738| ERROR   | Could not establish connection from ('127.0.0.1', 45653) to remote side of the tunnel\n",
      "2019-10-16 18:40:18,753| ERROR   | Could not establish connection from ('127.0.0.1', 45653) to remote side of the tunnel\n",
      "2019-10-16 18:40:28,768| ERROR   | Could not establish connection from ('127.0.0.1', 45653) to remote side of the tunnel\n",
      "2019-10-16 18:40:38,782| ERROR   | Could not establish connection from ('127.0.0.1', 45653) to remote side of the tunnel\n",
      "2019-10-16 18:40:48,796| ERROR   | Could not establish connection from ('127.0.0.1', 45653) to remote side of the tunnel\n",
      "2019-10-16 18:40:58,812| ERROR   | Could not establish connection from ('127.0.0.1', 45653) to remote side of the tunnel\n",
      "2019-10-16 18:41:08,830| ERROR   | Could not establish connection from ('127.0.0.1', 45653) to remote side of the tunnel\n",
      "2019-10-16 18:41:18,846| ERROR   | Could not establish connection from ('127.0.0.1', 45653) to remote side of the tunnel\n",
      "2019-10-16 18:41:28,863| ERROR   | Could not establish connection from ('127.0.0.1', 45653) to remote side of the tunnel\n",
      "2019-10-16 18:41:38,878| ERROR   | Could not establish connection from ('127.0.0.1', 45653) to remote side of the tunnel\n",
      "2019-10-16 18:41:48,894| ERROR   | Could not establish connection from ('127.0.0.1', 45653) to remote side of the tunnel\n",
      "2019-10-16 18:41:58,913| ERROR   | Could not establish connection from ('127.0.0.1', 45653) to remote side of the tunnel\n",
      "2019-10-16 18:42:08,928| ERROR   | Could not establish connection from ('127.0.0.1', 45653) to remote side of the tunnel\n",
      "2019-10-16 18:42:18,943| ERROR   | Could not establish connection from ('127.0.0.1', 45653) to remote side of the tunnel\n",
      "2019-10-16 18:42:28,961| ERROR   | Could not establish connection from ('127.0.0.1', 45653) to remote side of the tunnel\n",
      "2019-10-16 18:42:38,977| ERROR   | Could not establish connection from ('127.0.0.1', 45653) to remote side of the tunnel\n",
      "2019-10-16 18:42:48,992| ERROR   | Could not establish connection from ('127.0.0.1', 45653) to remote side of the tunnel\n",
      "2019-10-16 18:42:59,009| ERROR   | Could not establish connection from ('127.0.0.1', 45653) to remote side of the tunnel\n",
      "2019-10-16 18:43:09,027| ERROR   | Could not establish connection from ('127.0.0.1', 45653) to remote side of the tunnel\n",
      "2019-10-16 18:43:19,044| ERROR   | Could not establish connection from ('127.0.0.1', 45653) to remote side of the tunnel\n",
      "2019-10-16 18:43:29,060| ERROR   | Could not establish connection from ('127.0.0.1', 45653) to remote side of the tunnel\n",
      "2019-10-16 18:43:39,077| ERROR   | Could not establish connection from ('127.0.0.1', 45653) to remote side of the tunnel\n",
      "2019-10-16 18:43:49,092| ERROR   | Could not establish connection from ('127.0.0.1', 45653) to remote side of the tunnel\n",
      "2019-10-16 18:43:59,109| ERROR   | Could not establish connection from ('127.0.0.1', 45653) to remote side of the tunnel\n",
      "2019-10-16 18:44:09,125| ERROR   | Could not establish connection from ('127.0.0.1', 45653) to remote side of the tunnel\n",
      "2019-10-16 18:44:19,140| ERROR   | Could not establish connection from ('127.0.0.1', 45653) to remote side of the tunnel\n",
      "2019-10-16 18:44:29,156| ERROR   | Could not establish connection from ('127.0.0.1', 45653) to remote side of the tunnel\n",
      "2019-10-16 18:44:39,173| ERROR   | Could not establish connection from ('127.0.0.1', 45653) to remote side of the tunnel\n",
      "2019-10-16 18:44:49,190| ERROR   | Could not establish connection from ('127.0.0.1', 45653) to remote side of the tunnel\n",
      "2019-10-16 18:44:59,206| ERROR   | Could not establish connection from ('127.0.0.1', 45653) to remote side of the tunnel\n",
      "2019-10-16 18:45:09,222| ERROR   | Could not establish connection from ('127.0.0.1', 45653) to remote side of the tunnel\n",
      "2019-10-16 18:45:19,242| ERROR   | Could not establish connection from ('127.0.0.1', 45653) to remote side of the tunnel\n",
      "2019-10-16 18:45:29,259| ERROR   | Could not establish connection from ('127.0.0.1', 45653) to remote side of the tunnel\n",
      "2019-10-16 18:45:39,276| ERROR   | Could not establish connection from ('127.0.0.1', 45653) to remote side of the tunnel\n",
      "2019-10-16 18:45:49,293| ERROR   | Could not establish connection from ('127.0.0.1', 45653) to remote side of the tunnel\n",
      "2019-10-16 18:45:59,310| ERROR   | Could not establish connection from ('127.0.0.1', 45653) to remote side of the tunnel\n",
      "2019-10-16 18:46:09,327| ERROR   | Could not establish connection from ('127.0.0.1', 45653) to remote side of the tunnel\n"
     ]
    }
   ],
   "source": [
    "file = 'building_mongo.xlsx'\n",
    "work_sheet = u'Лист1'\n",
    "wb = px.load_workbook(file, data_only=True)\n",
    "sheet = wb[work_sheet]\n",
    "\n",
    "request = client[MONGO_DB][\"building\"].find({\"$and\":\n",
    "                                                    [{\"pageId\": {\"$ne\": None}}, \n",
    "                                                     {\"sematic\":{\"$eq\": \"true\"}}]}, \n",
    "                                                     {\"building_house_line_type\": 1, \n",
    "                                                      \"condition_type\": 1, \n",
    "                                                      \"description\": 1,\n",
    "                                                      \"vat_type\" : 1, \n",
    "                                                      \"pageId\": 1}).batch_size(30)\n",
    "j = 0\n",
    "for line in request:\n",
    "    j += 1\n",
    "    if j == 1:\n",
    "        k = 0\n",
    "        for note in line.keys():\n",
    "            k += 1\n",
    "            sheet.cell(row = j, column = k).value = str(note)\n",
    "    if j % 10 == 0:\n",
    "        k = 0\n",
    "        for note in line.values():\n",
    "            k += 1\n",
    "            sheet.cell(row = j/10+1, column = k).value = str(note)\n",
    "wb.save(\"building_mongo.xlsx\") "
   ]
  },
  {
   "cell_type": "code",
   "execution_count": null,
   "metadata": {},
   "outputs": [],
   "source": []
  }
 ],
 "metadata": {
  "kernelspec": {
   "display_name": "Python 3",
   "language": "python",
   "name": "python3"
  },
  "language_info": {
   "codemirror_mode": {
    "name": "ipython",
    "version": 3
   },
   "file_extension": ".py",
   "mimetype": "text/x-python",
   "name": "python",
   "nbconvert_exporter": "python",
   "pygments_lexer": "ipython3",
   "version": "3.7.3"
  }
 },
 "nbformat": 4,
 "nbformat_minor": 2
}
