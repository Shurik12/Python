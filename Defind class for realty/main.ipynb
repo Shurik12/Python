{
 "cells": [
  {
   "cell_type": "code",
   "execution_count": 4,
   "metadata": {},
   "outputs": [],
   "source": [
    "# функция get_class получает на вход строку вида \"id\\tprice\\taddress\\tclass\\tyear\\tfloors\\n\"\n",
    "# с табами в роле разделителей и \\n как символ конца строки\n",
    "# и возвращает id и класс объекта в случае корректного адреса и -1 иначе\n",
    "\n",
    "def get_class(line):\n",
    "    \n",
    "    #libs\n",
    "    import numpy as np\n",
    "\n",
    "    # my files\n",
    "    import determinating_class as d_c\n",
    "    import proccessing_string as p_s\n",
    "    \n",
    "    # объявляем переменные\n",
    "    words = [\"улица\", \"проспект\", \"бульвар\", \"переулок\", \n",
    "             \"проезд\", \"шоссе\", \"набережная\",  \"площадь\", \"тупик\"]\n",
    "    \n",
    "    addresses = p_s.get_processed_addresses()\n",
    "    line = p_s.proccessing_fulladdress(line, words)\n",
    "    if (line != \"Incorrect address\"):\n",
    "        find_pos = p_s.bin_search(addresses, line)\n",
    "        id_ = line[0]\n",
    "        if find_pos == -1: class_ = d_c.get_class(line)\n",
    "        else: classes = addresses[find_pos][4]\n",
    "        return id_, class_ \n",
    "    else: return -1 "
   ]
  },
  {
   "cell_type": "code",
   "execution_count": 5,
   "metadata": {},
   "outputs": [
    {
     "name": "stdout",
     "output_type": "stream",
     "text": [
      "('1469734', 'c')\n"
     ]
    }
   ],
   "source": [
    "line =\"1469734\\t30000.0\\tМосква, ЮАО, район Даниловский, Кожевническая улица, 14\\tb\\t1986\\t9\\n\"\n",
    "result = get_class(line)\n",
    "if result == -1:\n",
    "    print (\"Incorrect address wiht id\")\n",
    "else:\n",
    "    print (result)"
   ]
  },
  {
   "cell_type": "code",
   "execution_count": null,
   "metadata": {},
   "outputs": [],
   "source": []
  }
 ],
 "metadata": {
  "kernelspec": {
   "display_name": "Python 3",
   "language": "python",
   "name": "python3"
  },
  "language_info": {
   "codemirror_mode": {
    "name": "ipython",
    "version": 3
   },
   "file_extension": ".py",
   "mimetype": "text/x-python",
   "name": "python",
   "nbconvert_exporter": "python",
   "pygments_lexer": "ipython3",
   "version": "3.7.4"
  }
 },
 "nbformat": 4,
 "nbformat_minor": 2
}
