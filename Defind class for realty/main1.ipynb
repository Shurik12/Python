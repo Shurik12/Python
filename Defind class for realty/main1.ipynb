{
 "cells": [
  {
   "cell_type": "code",
   "execution_count": 17,
   "metadata": {},
   "outputs": [
    {
     "name": "stdout",
     "output_type": "stream",
     "text": [
      "Variables: dbname, user, password, host, port, table, words initialize success!\n",
      "Connection established with <cursor object at 0x7f513c5a3490; closed: 0>\n",
      "Data loaded into file offices.tsv success\n",
      "Processing: 2.5%\n",
      "Processing: 5.0%\n",
      "Processing: 7.5%\n",
      "Processing: 10.0%\n",
      "Processing: 12.5%\n",
      "Processing: 15.0%\n",
      "Processing: 17.5%\n",
      "Processing: 20.0%\n",
      "Processing: 22.5%\n",
      "Processing: 25.0%\n",
      "Processing: 27.5%\n",
      "Processing: 30.0%\n",
      "Processing: 32.5%\n",
      "Processing: 35.0%\n",
      "Processing: 37.5%\n",
      "Processing: 40.0%\n",
      "Processing: 42.5%\n",
      "Processing: 45.0%\n",
      "Processing: 47.5%\n",
      "Processing: 50.0%\n",
      "Processing: 52.5%\n",
      "Processing: 55.0%\n",
      "Processing: 57.5%\n",
      "Processing: 60.0%\n",
      "Processing: 62.5%\n",
      "Processing: 65.0%\n",
      "Processing: 67.5%\n",
      "Processing: 70.0%\n",
      "Processing: 72.5%\n",
      "Count of incorrect addresses: 3104\n"
     ]
    }
   ],
   "source": [
    "def main():\n",
    "    \n",
    "    #libs\n",
    "    import numpy as np\n",
    "\n",
    "    # my files\n",
    "    import determinating_class as d_c\n",
    "    import proccessing_string as p_s\n",
    "    import get_data_from_db as g_db\n",
    "    \n",
    "    # объявляем переменные\n",
    "\n",
    "    dbname = 'sas_test_db'\n",
    "    user = 'sas'\n",
    "    password = 'sasTESTpassword'\n",
    "    host = '185.98.83.27'\n",
    "    port = '29001'\n",
    "\n",
    "    table = \"offices_lease\"\n",
    "    \n",
    "    words = [\"улица\", \"проспект\", \"бульвар\", \"переулок\", \n",
    "             \"проезд\", \"шоссе\", \"набережная\",  \"площадь\", \"тупик\"]\n",
    "    print (\"Variables: dbname, user, password, host, port, table, words initialize success!\")\n",
    "    \n",
    "    # устанавливае соединение с базой данных\n",
    "    connection, cursor = g_db.get_connection(dbname, user, password, host, port)\n",
    "    \n",
    "    # выгружаем в файл строки из базы данных\n",
    "    g_db.load_offices(cursor, table)\n",
    "    \n",
    "    with open(\"offices.tsv\", \"r\") as f_r:\n",
    "        line = f_r.readline()\n",
    "        line = f_r.readline()\n",
    "        errors = 0\n",
    "        classes = np.array([])\n",
    "        id_s = np.array([])\n",
    "        i = 0 \n",
    "        while line:\n",
    "            i += 1\n",
    "            addresses = p_s.get_processed_addresses()\n",
    "            line = p_s.proccessing_fulladdress(line, words)\n",
    "            if (line != \"Incorrect address\"):\n",
    "                find_pos = p_s.bin_search(addresses, line)\n",
    "                id_s = np.append(id_s, line[0])\n",
    "                if find_pos == -1: classes = np.append(classes, d_c.get_class(line))\n",
    "                else: classes = np.append(classes, addresses[find_pos][4])\n",
    "            else: errors += 1\n",
    "            if i % 5000 == 0:\n",
    "                print (\"Processing: %s%%\" % str(round(100*i/200000, 2)))\n",
    "            line = f_r.readline()\n",
    "    print (\"Count of incorrect addresses: %d\" % errors)\n",
    "    return classes, id_s\n",
    "    \n",
    "if __name__ == \"__main__\":\n",
    "    classes, id_s = main()"
   ]
  },
  {
   "cell_type": "code",
   "execution_count": 18,
   "metadata": {},
   "outputs": [
    {
     "name": "stdout",
     "output_type": "stream",
     "text": [
      "145595 145595\n"
     ]
    }
   ],
   "source": [
    "print (len(classes), len(id_s))"
   ]
  },
  {
   "cell_type": "code",
   "execution_count": 20,
   "metadata": {},
   "outputs": [
    {
     "name": "stdout",
     "output_type": "stream",
     "text": [
      "11871\n"
     ]
    }
   ],
   "source": [
    "j =0 \n",
    "for i in classes:\n",
    "    if i == 'a': j +=1\n",
    "print(j)"
   ]
  },
  {
   "cell_type": "code",
   "execution_count": 21,
   "metadata": {},
   "outputs": [
    {
     "name": "stdout",
     "output_type": "stream",
     "text": [
      "Connection established with <cursor object at 0x7f513c5a3490; closed: 0>\n"
     ]
    }
   ],
   "source": [
    "#libs\n",
    "import numpy as np\n",
    "\n",
    "# my files\n",
    "import determinating_class as d_c\n",
    "import proccessing_string as p_s\n",
    "import get_data_from_db as g_db\n",
    "\n",
    "# объявляем переменные\n",
    "\n",
    "dbname = 'sas_test_db'\n",
    "user = 'sas'\n",
    "password = 'sasTESTpassword'\n",
    "host = '185.98.83.27'\n",
    "port = '29001'\n",
    "\n",
    "table = \"offices_lease\"\n",
    "\n",
    "connection, cursor = g_db.get_connection(dbname, user, password, host, port)"
   ]
  },
  {
   "cell_type": "code",
   "execution_count": 22,
   "metadata": {},
   "outputs": [
    {
     "name": "stdout",
     "output_type": "stream",
     "text": [
      "Processing: 0.0%\n",
      "Processing: 3.43%\n",
      "Processing: 6.87%\n",
      "Processing: 10.3%\n",
      "Processing: 13.74%\n",
      "Processing: 17.17%\n",
      "Processing: 20.61%\n",
      "Processing: 24.04%\n",
      "Processing: 27.47%\n",
      "Processing: 30.91%\n",
      "Processing: 34.34%\n",
      "Processing: 37.78%\n",
      "Processing: 41.21%\n",
      "Processing: 44.64%\n",
      "Processing: 48.08%\n",
      "Processing: 51.51%\n",
      "Processing: 54.95%\n",
      "Processing: 58.38%\n",
      "Processing: 61.82%\n",
      "Processing: 65.25%\n",
      "Processing: 68.68%\n",
      "Processing: 72.12%\n",
      "Processing: 75.55%\n",
      "Processing: 78.99%\n",
      "Processing: 82.42%\n",
      "Processing: 85.85%\n",
      "Processing: 89.29%\n",
      "Processing: 92.72%\n",
      "Processing: 96.16%\n",
      "Processing: 99.59%\n",
      "Processing: 100%%\n",
      "Done!\n"
     ]
    }
   ],
   "source": [
    "SQL_update = \"\"\"UPDATE %s \n",
    "         SET buildingclass = '%s' \n",
    "         WHERE id = %d\n",
    "         \"\"\"\n",
    "\n",
    "SQL_select = \"\"\"SELECT buildingclass\n",
    "                FROM offices_lease\n",
    "                WHERE id = %d\n",
    "                \"\"\"\n",
    "\n",
    "for i in range(len(id_s)):\n",
    "    if i % 5000 == 0:\n",
    "        print (\"Processing: %s%%\" % str(round(100*i/145595, 2)))\n",
    "    cursor.execute(SQL_update % (table, classes[i], int(id_s[i])))\n",
    "    connection.commit()\n",
    "print (\"Processing: 100%%\\nDone!\")"
   ]
  },
  {
   "cell_type": "code",
   "execution_count": null,
   "metadata": {},
   "outputs": [],
   "source": []
  },
  {
   "cell_type": "code",
   "execution_count": null,
   "metadata": {},
   "outputs": [],
   "source": []
  }
 ],
 "metadata": {
  "kernelspec": {
   "display_name": "Python 3",
   "language": "python",
   "name": "python3"
  },
  "language_info": {
   "codemirror_mode": {
    "name": "ipython",
    "version": 3
   },
   "file_extension": ".py",
   "mimetype": "text/x-python",
   "name": "python",
   "nbconvert_exporter": "python",
   "pygments_lexer": "ipython3",
   "version": "3.7.4"
  }
 },
 "nbformat": 4,
 "nbformat_minor": 2
}
