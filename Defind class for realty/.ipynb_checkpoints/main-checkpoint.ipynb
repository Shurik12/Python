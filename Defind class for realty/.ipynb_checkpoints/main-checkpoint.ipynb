{
 "cells": [
  {
   "cell_type": "code",
   "execution_count": 1,
   "metadata": {},
   "outputs": [],
   "source": [
    "def get_class(line):\n",
    "    \n",
    "    #libs\n",
    "    import numpy as np\n",
    "\n",
    "    # my files\n",
    "    import determinating_class as d_c\n",
    "    import proccessing_string as p_s\n",
    "    \n",
    "    # объявляем переменные\n",
    "    words = [\"улица\", \"проспект\", \"бульвар\", \"переулок\", \n",
    "             \"проезд\", \"шоссе\", \"набережная\",  \"площадь\", \"тупик\"]\n",
    "    \n",
    "    addresses = p_s.get_processed_addresses()\n",
    "    line = p_s.proccessing_fulladdress(line, words)\n",
    "    if (line != \"Incorrect address\"):\n",
    "        find_pos = p_s.bin_search(addresses, line)\n",
    "        id_ = line[0]\n",
    "        if find_pos == -1: class_ = d_c.get_class(line)\n",
    "        else: classes = addresses[find_pos][4]\n",
    "        return id_, class_ \n",
    "    else: return -1 "
   ]
  },
  {
   "cell_type": "code",
   "execution_count": null,
   "metadata": {},
   "outputs": [],
   "source": []
  }
 ],
 "metadata": {
  "kernelspec": {
   "display_name": "Python 3",
   "language": "python",
   "name": "python3"
  },
  "language_info": {
   "codemirror_mode": {
    "name": "ipython",
    "version": 3
   },
   "file_extension": ".py",
   "mimetype": "text/x-python",
   "name": "python",
   "nbconvert_exporter": "python",
   "pygments_lexer": "ipython3",
   "version": "3.7.4"
  }
 },
 "nbformat": 4,
 "nbformat_minor": 2
}
