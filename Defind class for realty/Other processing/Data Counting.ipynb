{
 "cells": [
  {
   "cell_type": "code",
   "execution_count": 1,
   "metadata": {},
   "outputs": [],
   "source": [
    "import time\n",
    "import random"
   ]
  },
  {
   "cell_type": "code",
   "execution_count": 4,
   "metadata": {},
   "outputs": [],
   "source": [
    "dict_ = {\n",
    "    '0': 'id',\n",
    "    '1-4': 'address',\n",
    "    '5': 'buldingclass',\n",
    "    '6': 'buildyear',\n",
    "    '7': 'floorscount',\n",
    "    '8': 'price'\n",
    "}"
   ]
  },
  {
   "cell_type": "code",
   "execution_count": 2,
   "metadata": {},
   "outputs": [],
   "source": [
    "file_data = open(\"new_file.tsv\", \"r\", encoding=\"utf-8\")\n",
    "data = []\n",
    "for line in file_data:\n",
    "    parsed_line = line.split(\"\\t\")\n",
    "    end_line = parsed_line[6] + \"\\t\" + parsed_line[7] + \"\\t\" + parsed_line[5]\n",
    "    for i in range(len(parsed_line[0].split(\",\"))):\n",
    "        data.append(parsed_line[0].split(\",\")[i].strip() + \"\\t\" + parsed_line[8].split(\",\")[i].strip() + \"\\t\" + end_line)\n",
    "file_data.close()\n",
    "backup = data"
   ]
  },
  {
   "cell_type": "code",
   "execution_count": 6,
   "metadata": {},
   "outputs": [
    {
     "name": "stdout",
     "output_type": "stream",
     "text": [
      "OK\n"
     ]
    }
   ],
   "source": [
    "def check_is_c(line):\n",
    "    data_array = line.split(\"\\t\")\n",
    "    price = data_array[1]\n",
    "    buildyear = data_array[2]\n",
    "    floorscount = data_array[3]\n",
    "    buildingclass = data_array[4]\n",
    "    if price != \"None\":\n",
    "        if float(price) <= 18000:\n",
    "            return 1\n",
    "    if \"c\" in buildingclass:\n",
    "        return 1\n",
    "    if floorscount.strip() != \"None\":\n",
    "        if int(floorscount) <= 4:\n",
    "            return 1\n",
    "    if buildyear.strip() != \"None\":    \n",
    "        if int(buildyear) > 1000 and int(buildyear) <= 2000:\n",
    "            return 1\n",
    "    return 0\n",
    "\n",
    "def check_is_b(line):\n",
    "    data_array = line.split(\"\\t\")\n",
    "    price = data_array[1]\n",
    "    buildyear = data_array[2]\n",
    "    floorscount = data_array[3]\n",
    "    buildingclass = data_array[4]\n",
    "    if price != \"None\":\n",
    "        if float(price) <= 35000:\n",
    "            return 1\n",
    "    if \"b\" in buildingclass:\n",
    "        return 1\n",
    "    if floorscount.strip() != \"None\":\n",
    "        if int(floorscount) <= 7:\n",
    "            return 1\n",
    "    if buildyear.strip() != \"None\":\n",
    "        if int(buildyear) > 1000 and int(buildyear) <= 2010:\n",
    "            return 1\n",
    "    return 0"
   ]
  },
  {
   "cell_type": "code",
   "execution_count": 160,
   "metadata": {},
   "outputs": [
    {
     "data": {
      "text/plain": [
       "0"
      ]
     },
     "execution_count": 160,
     "metadata": {},
     "output_type": "execute_result"
    }
   ],
   "source": [
    "file_b = open(\"b.tsv\", \"r\", encoding=\"utf-8\")\n",
    "is_c = 0\n",
    "total = 0\n",
    "for line in file_b:\n",
    "    total += 1\n",
    "    if check_is_c(line):\n",
    "        is_c += 1\n",
    "file_b.close()\n",
    "is_c"
   ]
  },
  {
   "cell_type": "code",
   "execution_count": 5,
   "metadata": {},
   "outputs": [],
   "source": [
    "#data_file = open(\"./Downloads/Telegram Desktop/Total_Class_Cleaned_1.tsv\", \"r\", encoding=\"utf-8\")\n",
    "file_c = open(\"c.tsv\", \"w\", encoding=\"utf-8\")\n",
    "file_b = open(\"b.tsv\", \"w\", encoding=\"utf-8\")\n",
    "file_a = open(\"a.tsv\", \"w\", encoding=\"utf-8\")\n",
    "file_other = open(\"other.tsv\", \"w\", encoding=\"utf-8\")\n",
    "#headers = data_file.readline()\n",
    "is_c = 0\n",
    "is_b = 0\n",
    "is_a = 0\n",
    "total = 0\n",
    "for line in data:\n",
    "    total += 1\n",
    "    if check_is_c(line):\n",
    "        is_c += 1\n",
    "        file_c.write(line + \"\\n\")\n",
    "    elif check_is_b(line):\n",
    "        is_b += 1\n",
    "        file_b.write(line + \"\\n\")\n",
    "    elif check_is_a(line):\n",
    "        is_a += 1\n",
    "        file_a.write(line + \"\\n\")\n",
    "    else:\n",
    "        file_other.write(line + \"\\n\")\n",
    "\n",
    "#data_file.close()\n",
    "file_c.close()\n",
    "file_b.close()\n",
    "file_a.close()\n",
    "file_other.close()"
   ]
  },
  {
   "cell_type": "code",
   "execution_count": null,
   "metadata": {},
   "outputs": [],
   "source": []
  },
  {
   "cell_type": "code",
   "execution_count": null,
   "metadata": {},
   "outputs": [],
   "source": []
  },
  {
   "cell_type": "code",
   "execution_count": null,
   "metadata": {},
   "outputs": [],
   "source": []
  },
  {
   "cell_type": "code",
   "execution_count": null,
   "metadata": {},
   "outputs": [],
   "source": []
  },
  {
   "cell_type": "code",
   "execution_count": null,
   "metadata": {},
   "outputs": [],
   "source": []
  },
  {
   "cell_type": "code",
   "execution_count": null,
   "metadata": {},
   "outputs": [],
   "source": []
  },
  {
   "cell_type": "code",
   "execution_count": 8,
   "metadata": {},
   "outputs": [
    {
     "name": "stdout",
     "output_type": "stream",
     "text": [
      "Total records:\t109940\n",
      "Years filled:\t66.48%\n",
      "Floors filled:\t97.37%\n",
      "Classes filled:\t95.36%\n"
     ]
    }
   ],
   "source": [
    "total_obj = 0\n",
    "year_filled = 0\n",
    "floors_filled = 0\n",
    "class_filled = 0\n",
    "for line in data:\n",
    "    total_obj += 1\n",
    "    if line.split(\"\\t\")[2] != \"None\":\n",
    "        year_filled += 1\n",
    "    if line.split(\"\\t\")[3] != \"None\":\n",
    "        floors_filled += 1\n",
    "    if line.split(\"\\t\")[4] != \"None\":\n",
    "        class_filled += 1\n",
    "print(f\"Total records:\\t{total_obj}\\nYears filled:\\t{round(100*year_filled/total_obj, 2)}%\\nFloors filled:\\t{round(100*floors_filled/total_obj, 2)}%\\nClasses filled:\\t{round(100*class_filled/total_obj, 2)}%\")"
   ]
  },
  {
   "cell_type": "code",
   "execution_count": 7,
   "metadata": {},
   "outputs": [
    {
     "name": "stdout",
     "output_type": "stream",
     "text": [
      "Percent C:\t71.97%,\n",
      "Class C total:\t79120\n",
      "Percent B:\t23.94%,\n",
      "Class B total:\t26320\n",
      "Percent A:\t2.25%,\n",
      "Class A total:\t2479\n",
      "Percent X:\t1.84%,\n",
      "Class X total:\t2021\n"
     ]
    }
   ],
   "source": [
    "print(f\"Percent C:\\t{round(100*is_c/total, 2)}%,\\nClass C total:\\t{is_c}\\nPercent B:\\t{round(100*is_b/total, 2)}%,\\nClass B total:\\t{is_b}\\nPercent A:\\t{round(100*is_a/total, 2)}%,\\nClass A total:\\t{is_a}\\nPercent X:\\t{round(100*(total-is_a-is_b-is_c)/total, 2)}%,\\nClass X total:\\t{total-is_a-is_b-is_c}\")"
   ]
  },
  {
   "cell_type": "code",
   "execution_count": 10,
   "metadata": {},
   "outputs": [
    {
     "data": {
      "text/plain": [
       "98.16"
      ]
     },
     "execution_count": 10,
     "metadata": {},
     "output_type": "execute_result"
    }
   ],
   "source": [
    "round(100*(is_c + is_b + is_a)/total, 2)"
   ]
  },
  {
   "cell_type": "code",
   "execution_count": 12,
   "metadata": {},
   "outputs": [
    {
     "data": {
      "text/plain": [
       "2021"
      ]
     },
     "execution_count": 12,
     "metadata": {},
     "output_type": "execute_result"
    }
   ],
   "source": [
    "total - (is_c + is_b + is_a)"
   ]
  },
  {
   "cell_type": "code",
   "execution_count": 14,
   "metadata": {},
   "outputs": [
    {
     "data": {
      "text/plain": [
       "109940"
      ]
     },
     "execution_count": 14,
     "metadata": {},
     "output_type": "execute_result"
    }
   ],
   "source": [
    "total"
   ]
  },
  {
   "cell_type": "code",
   "execution_count": null,
   "metadata": {},
   "outputs": [],
   "source": []
  }
 ],
 "metadata": {
  "kernelspec": {
   "display_name": "Python 3",
   "language": "python",
   "name": "python3"
  },
  "language_info": {
   "codemirror_mode": {
    "name": "ipython",
    "version": 3
   },
   "file_extension": ".py",
   "mimetype": "text/x-python",
   "name": "python",
   "nbconvert_exporter": "python",
   "pygments_lexer": "ipython3",
   "version": "3.7.4"
  }
 },
 "nbformat": 4,
 "nbformat_minor": 2
}
