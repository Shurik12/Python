{
 "cells": [
  {
   "cell_type": "code",
   "execution_count": 2,
   "metadata": {},
   "outputs": [],
   "source": [
    "import time\n",
    "import random"
   ]
  },
  {
   "cell_type": "code",
   "execution_count": 3,
   "metadata": {},
   "outputs": [],
   "source": [
    "dict_ = {\n",
    "    '0': 'id',\n",
    "    '1-4': 'address',\n",
    "    '5': 'buldingclass',\n",
    "    '6': 'buildyear',\n",
    "    '7': 'floorscount',\n",
    "    '8': 'price'\n",
    "}"
   ]
  },
  {
   "cell_type": "code",
   "execution_count": 27,
   "metadata": {},
   "outputs": [],
   "source": [
    "with open(\"office3.tsv\", \"w\") as f_w:\n",
    "    with open(\"office2.tsv\", \"r\") as f_r:\n",
    "        for line in f_r:\n",
    "            line = line.split('\\t')\n",
    "            end_line = ''\n",
    "            for i in range(2, 9):\n",
    "                end_line += line[i].strip() + \"\\t\"\n",
    "            end_line = end_line.strip() + '\\n'\n",
    "            id_s = line[0].split(\",\")\n",
    "            prices = line[1].split(\",\")\n",
    "            for i in range(len(id_s)):\n",
    "                f_w.write(id_s[i].strip() + \"\\t\" + prices[i].strip() + \"\\t\" + end_line)"
   ]
  },
  {
   "cell_type": "code",
   "execution_count": 1,
   "metadata": {},
   "outputs": [],
   "source": [
    "with open(\"office1.tsv\", \"w\") as f_w:\n",
    "    with open(\"office.tsv\", \"r\") as f_r:\n",
    "        for line in f_r:\n",
    "            line = line.split('\\t')\n",
    "            if 'c' in line[6]:\n",
    "                line[6] = 'c'\n",
    "            elif 'b' in line[6]:\n",
    "                line[6] = 'b'\n",
    "            elif 'a' in line[6]:\n",
    "                line[6] = 'a'\n",
    "            else:\n",
    "                line[6] = \"None\"\n",
    "            line_w = ''\n",
    "            for word in line:\n",
    "                line_w += word + '\\t'\n",
    "            line_w = line_w.strip() + '\\n'\n",
    "            f_w.write(line_w)"
   ]
  },
  {
   "cell_type": "code",
   "execution_count": 26,
   "metadata": {},
   "outputs": [],
   "source": [
    "with open(\"office1.tsv\", \"r\") as f_r:\n",
    "    with open(\"office2.tsv\", \"w\") as f_w:\n",
    "        for line in f_r:\n",
    "            line = line.strip('\\n').split('\\t')\n",
    "            line[7] = line[7].strip(',')\n",
    "            year = \"None\"\n",
    "            for word in line[7].split(\",\"):\n",
    "                if word < year:\n",
    "                    year = word\n",
    "            floor = ''\n",
    "            q = 0\n",
    "            dict_ = {}\n",
    "            for word in line[8].strip(','):\n",
    "                if word in dict_.keys(): dict_[word] += 1\n",
    "                else: dict_[word] = 1\n",
    "            for key, value in dict_.items():\n",
    "                if value > q: \n",
    "                    q = value \n",
    "                    floor = key\n",
    "            line_w = ''\n",
    "            for word in line[0:7]:\n",
    "                line_w += word + '\\t'\n",
    "            line_w += year + '\\t' + floor + '\\n'\n",
    "            f_w.write(line_w)"
   ]
  },
  {
   "cell_type": "code",
   "execution_count": 29,
   "metadata": {},
   "outputs": [],
   "source": [
    "def get_class_a():\n",
    "    class_a = []\n",
    "    with open(\"Class_A.tsv\", \"r\") as f_r:\n",
    "        for line in f_r:\n",
    "            line = line.strip('\\n').split('\\t')\n",
    "            class_a.append(line)\n",
    "    return class_a\n",
    "\n",
    "def check_is_c(line):\n",
    "    price = line[1]\n",
    "    buildyear = line[7]\n",
    "    floorscount = line[8]\n",
    "    buildingclass = line[6]\n",
    "    if \"c\" in buildingclass:\n",
    "        return 1\n",
    "    if floorscount.strip():\n",
    "        if int(floorscount) <= 4:\n",
    "            return 1\n",
    "    if buildyear.strip():    \n",
    "        if int(buildyear) > 1000 and int(buildyear) <= 2000:\n",
    "            return 1\n",
    "    return 0\n",
    "\n",
    "def check_is_b(line):\n",
    "    price = line[1].strip()\n",
    "    buildyear = line[7].strip()\n",
    "    floorscount = line[8].strip()\n",
    "    buildingclass = line[6].strip()\n",
    "    if \"b\" in buildingclass:\n",
    "        return 1\n",
    "    if floorscount.strip():\n",
    "        if int(floorscount) <= 7:\n",
    "            return 1\n",
    "    if buildyear.strip():\n",
    "        if int(buildyear) > 1000 and int(buildyear) <= 2010:\n",
    "            return 1\n",
    "    return 0"
   ]
  },
  {
   "cell_type": "code",
   "execution_count": 31,
   "metadata": {},
   "outputs": [],
   "source": [
    "def get_result(class_a):\n",
    "    is_c = 0\n",
    "    is_b = 0\n",
    "    is_a = 0\n",
    "    total = 0\n",
    "    with open(\"office4.tsv\", \"w\") as f_w:\n",
    "        with open(\"office3.tsv\", \"r\") as f_r:\n",
    "            line = f_r.readline()\n",
    "            while line:\n",
    "                total += 1\n",
    "                line = line.strip('\\n').split('\\t')\n",
    "                if line[2:6] in class_a:\n",
    "                    is_a += 1\n",
    "                    line_w = line[0]+'\\t'+line[2]+'\\t'+line[3]+'\\t'+line[4]+'\\t'+line[5]+'\\ta\\n'\n",
    "                    f_w.write(line_w)\n",
    "                elif check_is_c(line):\n",
    "                    is_c += 1 \n",
    "                    line_w = line[0]+'\\t'+line[2]+'\\t'+line[3]+'\\t'+line[4]+'\\t'+line[5]+'\\tc\\n'\n",
    "                    f_w.write(line_w)\n",
    "                elif check_is_b(line):\n",
    "                    is_b += 1\n",
    "                    line_w = line[0]+'\\t'+line[2]+'\\t'+line[3]+'\\t'+line[4]+'\\t'+line[5]+'\\tb\\n'\n",
    "                    f_w.write(line_w)\n",
    "                else:\n",
    "                    line_w = line[0]+'\\t'+line[2]+'\\t'+line[3]+'\\t'+line[4]+'\\t'+line[5]+'\\tNone\\n'\n",
    "                    f_w.write(line_w)\n",
    "                line = f_r.readline()\n",
    "    return total, is_a, is_b, is_c "
   ]
  },
  {
   "cell_type": "code",
   "execution_count": 32,
   "metadata": {},
   "outputs": [],
   "source": [
    "class_a = get_class_a()\n",
    "result = get_result(class_a)"
   ]
  },
  {
   "cell_type": "code",
   "execution_count": 33,
   "metadata": {},
   "outputs": [
    {
     "data": {
      "text/plain": [
       "3848"
      ]
     },
     "execution_count": 33,
     "metadata": {},
     "output_type": "execute_result"
    }
   ],
   "source": [
    "result[0]"
   ]
  },
  {
   "cell_type": "code",
   "execution_count": 34,
   "metadata": {},
   "outputs": [],
   "source": [
    "with open(\"office4.tsv\", \"r\") as f_r:\n",
    "    with open(\"office5.tsv\", \"w\") as f_w:\n",
    "        f_w.write('id\\tclass\\n')\n",
    "        line = f_r.readline()\n",
    "        while line:\n",
    "            line = line.strip('\\n').split('\\t')\n",
    "            line_w = line[0] + '\\t' + line[-1] +'\\n'\n",
    "            f_w.write(line_w)\n",
    "            line = f_r.readline()"
   ]
  },
  {
   "cell_type": "code",
   "execution_count": null,
   "metadata": {},
   "outputs": [],
   "source": []
  },
  {
   "cell_type": "code",
   "execution_count": null,
   "metadata": {},
   "outputs": [],
   "source": []
  }
 ],
 "metadata": {
  "kernelspec": {
   "display_name": "Python 3",
   "language": "python",
   "name": "python3"
  },
  "language_info": {
   "codemirror_mode": {
    "name": "ipython",
    "version": 3
   },
   "file_extension": ".py",
   "mimetype": "text/x-python",
   "name": "python",
   "nbconvert_exporter": "python",
   "pygments_lexer": "ipython3",
   "version": "3.7.4"
  }
 },
 "nbformat": 4,
 "nbformat_minor": 2
}
